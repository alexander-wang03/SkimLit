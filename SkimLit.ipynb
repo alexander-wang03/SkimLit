{
 "cells": [
  {
   "cell_type": "markdown",
   "id": "48002adc-eb3a-4d6d-b253-8e5f4af38943",
   "metadata": {
    "tags": []
   },
   "source": [
    "# SkimLit NLP Project\n",
    "\n",
    "Written By: Alexander Wang\n",
    "\n",
    "Date: August 25th, 2023\n",
    "\n",
    "This project intends to build an NLP model to make reading medical abstracts easier.\n",
    "\n",
    "It will take in medical papers as input and classify information under categories of: Background, Objectives, Methods, Results, and Conclusions.\n",
    "\n",
    "It utilizes the PubMed 200k RCT Dataset described in *PubMed 200k RCT: a Dataset for Sequential Sentence Classification in Medical Abstracts* (https://arxiv.org/abs/1710.06071)"
   ]
  },
  {
   "cell_type": "code",
   "execution_count": 2,
   "id": "b646a85d-8c6f-49aa-832b-518142e1bda4",
   "metadata": {},
   "outputs": [],
   "source": [
    "from helper_functions import calculate_results"
   ]
  },
  {
   "cell_type": "code",
   "execution_count": 3,
   "id": "2f3b4053-ff83-4d4e-8a63-acf7dc369670",
   "metadata": {},
   "outputs": [],
   "source": [
    "# Start our experiment using the 200k dataset with numbers replaced by \"@\" sign\n",
    "data_dir = \"pubmed-rct/PubMed_200k_RCT_numbers_replaced_with_at_sign/\""
   ]
  },
  {
   "cell_type": "markdown",
   "id": "625d3fe9-3131-4f41-859e-c95604d36528",
   "metadata": {},
   "source": [
    "## Preprocess Data"
   ]
  },
  {
   "cell_type": "markdown",
   "id": "bdb2e8cc-95c1-4f16-8fff-6f3c6105b356",
   "metadata": {},
   "source": [
    "### Preprocess Data - Visualized"
   ]
  },
  {
   "cell_type": "code",
   "execution_count": 4,
   "id": "9da1841d-e748-4b97-8cdc-a848ceaf45d8",
   "metadata": {},
   "outputs": [],
   "source": [
    "# Create function to read the lines of a document\n",
    "def get_lines(filename):\n",
    "    \"\"\"\n",
    "    Reads filename and returns the lines of text as a list\n",
    "    \"\"\"\n",
    "    \n",
    "    with open(filename, \"r\") as f:\n",
    "        return f.readlines()"
   ]
  },
  {
   "cell_type": "code",
   "execution_count": 5,
   "id": "22545755-e192-4592-8b49-166a57f56fe6",
   "metadata": {},
   "outputs": [
    {
     "data": {
      "text/plain": [
       "['###24491034\\n',\n",
       " 'BACKGROUND\\tThe emergence of HIV as a chronic condition means that people living with HIV are required to take more responsibility for the self-management of their condition , including making physical , emotional and social adjustments .\\n',\n",
       " 'BACKGROUND\\tThis paper describes the design and evaluation of Positive Outlook , an online program aiming to enhance the self-management skills of gay men living with HIV .\\n',\n",
       " 'METHODS\\tThis study is designed as a randomised controlled trial in which men living with HIV in Australia will be assigned to either an intervention group or usual care control group .\\n',\n",
       " \"METHODS\\tThe intervention group will participate in the online group program ` Positive Outlook ' .\\n\",\n",
       " 'METHODS\\tThe program is based on self-efficacy theory and uses a self-management approach to enhance skills , confidence and abilities to manage the psychosocial issues associated with HIV in daily life .\\n',\n",
       " 'METHODS\\tParticipants will access the program for a minimum of @ minutes per week over seven weeks .\\n',\n",
       " 'METHODS\\tPrimary outcomes are domain specific self-efficacy , HIV related quality of life , and outcomes of health education .\\n',\n",
       " 'METHODS\\tSecondary outcomes include : depression , anxiety and stress ; general health and quality of life ; adjustment to HIV ; and social support .\\n',\n",
       " 'METHODS\\tData collection will take place at baseline , completion of the intervention ( or eight weeks post randomisation ) and at @ week follow-up .\\n',\n",
       " 'CONCLUSIONS\\tResults of the Positive Outlook study will provide information regarding the effectiveness of online group programs improving health related outcomes for men living with HIV .\\n',\n",
       " 'BACKGROUND\\tACTRN@ .\\n',\n",
       " '\\n',\n",
       " '###20497432\\n',\n",
       " 'BACKGROUND\\tThe aim of this study was to evaluate the efficacy , safety and complications of orbital steroid injection versus oral steroid therapy in the management of thyroid-related ophthalmopathy .\\n',\n",
       " 'METHODS\\tA total of @ patients suffering from thyroid ophthalmopathy were included in this study .\\n',\n",
       " 'METHODS\\tPatients were randomized into two groups : group I included @ patients treated with oral prednisolone and group II included @ patients treated with peribulbar triamcinolone orbital injection .\\n',\n",
       " 'METHODS\\tOnly @ patients in both groups ( @ female and @ male ) completed the study .\\n',\n",
       " 'RESULTS\\tBoth groups showed improvement in symptoms and in clinical evidence of inflammation with improvement of eye movement and proptosis in most cases .\\n',\n",
       " 'RESULTS\\tMean exophthalmometry value before treatment was @ @ mm that decreased to @ @ mm in group I , compared with @ @ mm that decreased to @ @ mm in group II .\\n']"
      ]
     },
     "execution_count": 5,
     "metadata": {},
     "output_type": "execute_result"
    }
   ],
   "source": [
    "# Let's read in the training lines\n",
    "train_lines = get_lines(data_dir+\"train.txt\") # read lines\n",
    "train_lines[:20]"
   ]
  },
  {
   "cell_type": "code",
   "execution_count": 6,
   "id": "3c3fc0ea-1c45-43b6-879d-44b0748edff0",
   "metadata": {},
   "outputs": [
    {
     "data": {
      "text/plain": [
       "2593169"
      ]
     },
     "execution_count": 6,
     "metadata": {},
     "output_type": "execute_result"
    }
   ],
   "source": [
    "len(train_lines)"
   ]
  },
  {
   "cell_type": "markdown",
   "id": "50950235-9b86-452d-ac92-249ee5095456",
   "metadata": {
    "tags": []
   },
   "source": [
    "### Convert .csv to Dictionaries\n",
    "\n",
    "Let's think about how we want our data to look...\n",
    "\n",
    "[{'line_number': 0,\n",
    "\n",
    "'target': 'BACKGROUND',\n",
    "\n",
    "'text': 'Emotional eating is associated with overeating and the development of obesity .\\n'\n",
    "\n",
    "'total_lines': 11}]\n"
   ]
  },
  {
   "cell_type": "markdown",
   "id": "c046d619-ddf6-4c47-9a4c-aa91f7a3d97c",
   "metadata": {},
   "source": [
    "Let's write a function which turns each of our datasets into the above format"
   ]
  },
  {
   "cell_type": "code",
   "execution_count": 7,
   "id": "5940148e-bdb9-4204-a112-173e84de2846",
   "metadata": {
    "tags": []
   },
   "outputs": [],
   "source": [
    "def preprocess_text_with_line_numbers(filename):\n",
    "    \"\"\"\n",
    "    Returns a list of dictionaries of abstract line data.\n",
    "    \"\"\"\n",
    "    \n",
    "    input_lines = get_lines(filename) # get all lines from filename\n",
    "    abstract_lines = \"\" # create an empty abstract\n",
    "    abstract_samples = [] # create an empty list of abstracts\n",
    "    \n",
    "    # Loop through each line in the target file\n",
    "    for line in input_lines:\n",
    "        if line.startswith(\"###\"): # Check to see if the line is an ID line\n",
    "            abstract_id = line\n",
    "            abstract_lines = \"\" # reset the abstract string if the line is an ID line\n",
    "        elif line.isspace(): # check to see if line is a new line\n",
    "            abstract_line_split = abstract_lines.splitlines() # split abstract into separate lines\n",
    "            \n",
    "            # Iterate through each line in a single abstact and count them at the same time\n",
    "            for abstract_line_number, abstract_line in enumerate(abstract_line_split):\n",
    "                line_data = {} # Create an empty dictionary for each line\n",
    "                target_text_split = abstract_line.split(\"\\t\") # Split target label from text\n",
    "                line_data[\"target\"] = target_text_split[0] # get target label\n",
    "                line_data[\"text\"] = target_text_split[1].lower() # get target text\n",
    "                line_data[\"line_number\"] = abstract_line_number # what number line does the line appear in the abstract\n",
    "                line_data[\"total_lines\"] = len(abstract_line_split)-1 # How many total lines are ine abstract (-1 because we want to start at 0)\n",
    "                abstract_samples.append(line_data) # add line data to abstract samples list\n",
    "        else: # If the above conditions are not fulfilled , the line contains a labelled sentence\n",
    "            abstract_lines += line\n",
    "    \n",
    "    return abstract_samples"
   ]
  },
  {
   "cell_type": "code",
   "execution_count": 8,
   "id": "66e8169b-f3b3-4527-8469-6570d6e282d3",
   "metadata": {},
   "outputs": [
    {
     "name": "stdout",
     "output_type": "stream",
     "text": [
      "2211861 28932 29493\n",
      "CPU times: total: 4.19 s\n",
      "Wall time: 4.18 s\n"
     ]
    }
   ],
   "source": [
    "%%time\n",
    "# Get data from file and preprocess it\n",
    "train_samples = preprocess_text_with_line_numbers(data_dir+\"train.txt\")\n",
    "val_samples = preprocess_text_with_line_numbers(data_dir+\"dev.txt\")\n",
    "test_samples = preprocess_text_with_line_numbers(data_dir+\"test.txt\")\n",
    "print(len(train_samples), len(val_samples), len(test_samples))"
   ]
  },
  {
   "cell_type": "code",
   "execution_count": 9,
   "id": "c8dfa9c6-dfa5-4594-8979-aec14a65e14c",
   "metadata": {},
   "outputs": [
    {
     "data": {
      "text/plain": [
       "[{'target': 'BACKGROUND',\n",
       "  'text': 'the emergence of hiv as a chronic condition means that people living with hiv are required to take more responsibility for the self-management of their condition , including making physical , emotional and social adjustments .',\n",
       "  'line_number': 0,\n",
       "  'total_lines': 10},\n",
       " {'target': 'BACKGROUND',\n",
       "  'text': 'this paper describes the design and evaluation of positive outlook , an online program aiming to enhance the self-management skills of gay men living with hiv .',\n",
       "  'line_number': 1,\n",
       "  'total_lines': 10},\n",
       " {'target': 'METHODS',\n",
       "  'text': 'this study is designed as a randomised controlled trial in which men living with hiv in australia will be assigned to either an intervention group or usual care control group .',\n",
       "  'line_number': 2,\n",
       "  'total_lines': 10},\n",
       " {'target': 'METHODS',\n",
       "  'text': \"the intervention group will participate in the online group program ` positive outlook ' .\",\n",
       "  'line_number': 3,\n",
       "  'total_lines': 10},\n",
       " {'target': 'METHODS',\n",
       "  'text': 'the program is based on self-efficacy theory and uses a self-management approach to enhance skills , confidence and abilities to manage the psychosocial issues associated with hiv in daily life .',\n",
       "  'line_number': 4,\n",
       "  'total_lines': 10},\n",
       " {'target': 'METHODS',\n",
       "  'text': 'participants will access the program for a minimum of @ minutes per week over seven weeks .',\n",
       "  'line_number': 5,\n",
       "  'total_lines': 10},\n",
       " {'target': 'METHODS',\n",
       "  'text': 'primary outcomes are domain specific self-efficacy , hiv related quality of life , and outcomes of health education .',\n",
       "  'line_number': 6,\n",
       "  'total_lines': 10},\n",
       " {'target': 'METHODS',\n",
       "  'text': 'secondary outcomes include : depression , anxiety and stress ; general health and quality of life ; adjustment to hiv ; and social support .',\n",
       "  'line_number': 7,\n",
       "  'total_lines': 10},\n",
       " {'target': 'METHODS',\n",
       "  'text': 'data collection will take place at baseline , completion of the intervention ( or eight weeks post randomisation ) and at @ week follow-up .',\n",
       "  'line_number': 8,\n",
       "  'total_lines': 10},\n",
       " {'target': 'CONCLUSIONS',\n",
       "  'text': 'results of the positive outlook study will provide information regarding the effectiveness of online group programs improving health related outcomes for men living with hiv .',\n",
       "  'line_number': 9,\n",
       "  'total_lines': 10},\n",
       " {'target': 'BACKGROUND',\n",
       "  'text': 'actrn@ .',\n",
       "  'line_number': 10,\n",
       "  'total_lines': 10},\n",
       " {'target': 'BACKGROUND',\n",
       "  'text': 'the aim of this study was to evaluate the efficacy , safety and complications of orbital steroid injection versus oral steroid therapy in the management of thyroid-related ophthalmopathy .',\n",
       "  'line_number': 0,\n",
       "  'total_lines': 11},\n",
       " {'target': 'METHODS',\n",
       "  'text': 'a total of @ patients suffering from thyroid ophthalmopathy were included in this study .',\n",
       "  'line_number': 1,\n",
       "  'total_lines': 11}]"
      ]
     },
     "execution_count": 9,
     "metadata": {},
     "output_type": "execute_result"
    }
   ],
   "source": [
    "# Check the first abstract of our training data\n",
    "train_samples[:13]"
   ]
  },
  {
   "cell_type": "markdown",
   "id": "0fced3b5-4824-4476-9032-f17df662b57a",
   "metadata": {},
   "source": [
    "### Convert Dictionaries to Pandas DataFrame\n",
    "\n",
    "Now let's turn it into a DataFrame to further visualize it."
   ]
  },
  {
   "cell_type": "code",
   "execution_count": 10,
   "id": "0e41117f-aada-4e13-8376-cd8c486f35a1",
   "metadata": {},
   "outputs": [
    {
     "data": {
      "text/html": [
       "<div>\n",
       "<style scoped>\n",
       "    .dataframe tbody tr th:only-of-type {\n",
       "        vertical-align: middle;\n",
       "    }\n",
       "\n",
       "    .dataframe tbody tr th {\n",
       "        vertical-align: top;\n",
       "    }\n",
       "\n",
       "    .dataframe thead th {\n",
       "        text-align: right;\n",
       "    }\n",
       "</style>\n",
       "<table border=\"1\" class=\"dataframe\">\n",
       "  <thead>\n",
       "    <tr style=\"text-align: right;\">\n",
       "      <th></th>\n",
       "      <th>target</th>\n",
       "      <th>text</th>\n",
       "      <th>line_number</th>\n",
       "      <th>total_lines</th>\n",
       "    </tr>\n",
       "  </thead>\n",
       "  <tbody>\n",
       "    <tr>\n",
       "      <th>0</th>\n",
       "      <td>BACKGROUND</td>\n",
       "      <td>the emergence of hiv as a chronic condition me...</td>\n",
       "      <td>0</td>\n",
       "      <td>10</td>\n",
       "    </tr>\n",
       "    <tr>\n",
       "      <th>1</th>\n",
       "      <td>BACKGROUND</td>\n",
       "      <td>this paper describes the design and evaluation...</td>\n",
       "      <td>1</td>\n",
       "      <td>10</td>\n",
       "    </tr>\n",
       "    <tr>\n",
       "      <th>2</th>\n",
       "      <td>METHODS</td>\n",
       "      <td>this study is designed as a randomised control...</td>\n",
       "      <td>2</td>\n",
       "      <td>10</td>\n",
       "    </tr>\n",
       "    <tr>\n",
       "      <th>3</th>\n",
       "      <td>METHODS</td>\n",
       "      <td>the intervention group will participate in the...</td>\n",
       "      <td>3</td>\n",
       "      <td>10</td>\n",
       "    </tr>\n",
       "    <tr>\n",
       "      <th>4</th>\n",
       "      <td>METHODS</td>\n",
       "      <td>the program is based on self-efficacy theory a...</td>\n",
       "      <td>4</td>\n",
       "      <td>10</td>\n",
       "    </tr>\n",
       "    <tr>\n",
       "      <th>5</th>\n",
       "      <td>METHODS</td>\n",
       "      <td>participants will access the program for a min...</td>\n",
       "      <td>5</td>\n",
       "      <td>10</td>\n",
       "    </tr>\n",
       "    <tr>\n",
       "      <th>6</th>\n",
       "      <td>METHODS</td>\n",
       "      <td>primary outcomes are domain specific self-effi...</td>\n",
       "      <td>6</td>\n",
       "      <td>10</td>\n",
       "    </tr>\n",
       "    <tr>\n",
       "      <th>7</th>\n",
       "      <td>METHODS</td>\n",
       "      <td>secondary outcomes include : depression , anxi...</td>\n",
       "      <td>7</td>\n",
       "      <td>10</td>\n",
       "    </tr>\n",
       "    <tr>\n",
       "      <th>8</th>\n",
       "      <td>METHODS</td>\n",
       "      <td>data collection will take place at baseline , ...</td>\n",
       "      <td>8</td>\n",
       "      <td>10</td>\n",
       "    </tr>\n",
       "    <tr>\n",
       "      <th>9</th>\n",
       "      <td>CONCLUSIONS</td>\n",
       "      <td>results of the positive outlook study will pro...</td>\n",
       "      <td>9</td>\n",
       "      <td>10</td>\n",
       "    </tr>\n",
       "    <tr>\n",
       "      <th>10</th>\n",
       "      <td>BACKGROUND</td>\n",
       "      <td>actrn@ .</td>\n",
       "      <td>10</td>\n",
       "      <td>10</td>\n",
       "    </tr>\n",
       "    <tr>\n",
       "      <th>11</th>\n",
       "      <td>BACKGROUND</td>\n",
       "      <td>the aim of this study was to evaluate the effi...</td>\n",
       "      <td>0</td>\n",
       "      <td>11</td>\n",
       "    </tr>\n",
       "    <tr>\n",
       "      <th>12</th>\n",
       "      <td>METHODS</td>\n",
       "      <td>a total of @ patients suffering from thyroid o...</td>\n",
       "      <td>1</td>\n",
       "      <td>11</td>\n",
       "    </tr>\n",
       "    <tr>\n",
       "      <th>13</th>\n",
       "      <td>METHODS</td>\n",
       "      <td>patients were randomized into two groups : gro...</td>\n",
       "      <td>2</td>\n",
       "      <td>11</td>\n",
       "    </tr>\n",
       "  </tbody>\n",
       "</table>\n",
       "</div>"
      ],
      "text/plain": [
       "         target                                               text  \\\n",
       "0    BACKGROUND  the emergence of hiv as a chronic condition me...   \n",
       "1    BACKGROUND  this paper describes the design and evaluation...   \n",
       "2       METHODS  this study is designed as a randomised control...   \n",
       "3       METHODS  the intervention group will participate in the...   \n",
       "4       METHODS  the program is based on self-efficacy theory a...   \n",
       "5       METHODS  participants will access the program for a min...   \n",
       "6       METHODS  primary outcomes are domain specific self-effi...   \n",
       "7       METHODS  secondary outcomes include : depression , anxi...   \n",
       "8       METHODS  data collection will take place at baseline , ...   \n",
       "9   CONCLUSIONS  results of the positive outlook study will pro...   \n",
       "10   BACKGROUND                                           actrn@ .   \n",
       "11   BACKGROUND  the aim of this study was to evaluate the effi...   \n",
       "12      METHODS  a total of @ patients suffering from thyroid o...   \n",
       "13      METHODS  patients were randomized into two groups : gro...   \n",
       "\n",
       "    line_number  total_lines  \n",
       "0             0           10  \n",
       "1             1           10  \n",
       "2             2           10  \n",
       "3             3           10  \n",
       "4             4           10  \n",
       "5             5           10  \n",
       "6             6           10  \n",
       "7             7           10  \n",
       "8             8           10  \n",
       "9             9           10  \n",
       "10           10           10  \n",
       "11            0           11  \n",
       "12            1           11  \n",
       "13            2           11  "
      ]
     },
     "execution_count": 10,
     "metadata": {},
     "output_type": "execute_result"
    }
   ],
   "source": [
    "import pandas as pd\n",
    "train_df = pd.DataFrame(train_samples)\n",
    "val_df = pd.DataFrame(val_samples)\n",
    "test_df = pd.DataFrame(test_samples)\n",
    "train_df.head(14)"
   ]
  },
  {
   "cell_type": "code",
   "execution_count": 11,
   "id": "e130f6b2-21aa-49a9-aa91-0a820b9c7ef1",
   "metadata": {},
   "outputs": [
    {
     "data": {
      "text/plain": [
       "target\n",
       "RESULTS        766271\n",
       "METHODS        722586\n",
       "CONCLUSIONS    339714\n",
       "BACKGROUND     196689\n",
       "OBJECTIVE      186601\n",
       "Name: count, dtype: int64"
      ]
     },
     "execution_count": 11,
     "metadata": {},
     "output_type": "execute_result"
    }
   ],
   "source": [
    "# Distribution of labels in training data\n",
    "train_df.target.value_counts()"
   ]
  },
  {
   "cell_type": "code",
   "execution_count": 12,
   "id": "0604ae5f-9801-40ac-80dc-f1ab1fb5a60f",
   "metadata": {},
   "outputs": [
    {
     "data": {
      "text/plain": [
       "<Axes: ylabel='Frequency'>"
      ]
     },
     "execution_count": 12,
     "metadata": {},
     "output_type": "execute_result"
    },
    {
     "data": {
      "image/png": "[encoded data removed]",
      "text/plain": [
       "<Figure size 640x480 with 1 Axes>"
      ]
     },
     "metadata": {},
     "output_type": "display_data"
    }
   ],
   "source": [
    "# Let's check the length of different lines\n",
    "train_df.total_lines.plot.hist()"
   ]
  },
  {
   "cell_type": "markdown",
   "id": "b45cb16f-1383-471f-a62c-90483dbd5445",
   "metadata": {},
   "source": [
    "### Convert DataFrame to Lists"
   ]
  },
  {
   "cell_type": "code",
   "execution_count": 13,
   "id": "0f7845fb-f037-4ab9-863f-0ee79840c1a2",
   "metadata": {},
   "outputs": [
    {
     "data": {
      "text/plain": [
       "(2211861, 28932, 29493)"
      ]
     },
     "execution_count": 13,
     "metadata": {},
     "output_type": "execute_result"
    }
   ],
   "source": [
    "# Convert abstract text lines into lists\n",
    "train_sentences = train_df[\"text\"].tolist()\n",
    "val_sentences = val_df[\"text\"].tolist()\n",
    "test_sentences = test_df[\"text\"].tolist()\n",
    "len(train_sentences), len(val_sentences), len(test_sentences)"
   ]
  },
  {
   "cell_type": "code",
   "execution_count": 14,
   "id": "fa5c3eff-bc26-47a5-b076-a70a9a3efaef",
   "metadata": {},
   "outputs": [
    {
     "data": {
      "text/plain": [
       "['the emergence of hiv as a chronic condition means that people living with hiv are required to take more responsibility for the self-management of their condition , including making physical , emotional and social adjustments .',\n",
       " 'this paper describes the design and evaluation of positive outlook , an online program aiming to enhance the self-management skills of gay men living with hiv .',\n",
       " 'this study is designed as a randomised controlled trial in which men living with hiv in australia will be assigned to either an intervention group or usual care control group .',\n",
       " \"the intervention group will participate in the online group program ` positive outlook ' .\",\n",
       " 'the program is based on self-efficacy theory and uses a self-management approach to enhance skills , confidence and abilities to manage the psychosocial issues associated with hiv in daily life .',\n",
       " 'participants will access the program for a minimum of @ minutes per week over seven weeks .',\n",
       " 'primary outcomes are domain specific self-efficacy , hiv related quality of life , and outcomes of health education .',\n",
       " 'secondary outcomes include : depression , anxiety and stress ; general health and quality of life ; adjustment to hiv ; and social support .',\n",
       " 'data collection will take place at baseline , completion of the intervention ( or eight weeks post randomisation ) and at @ week follow-up .',\n",
       " 'results of the positive outlook study will provide information regarding the effectiveness of online group programs improving health related outcomes for men living with hiv .']"
      ]
     },
     "execution_count": 14,
     "metadata": {},
     "output_type": "execute_result"
    }
   ],
   "source": [
    "# View the 10 lines of training sentences\n",
    "train_sentences[:10]"
   ]
  },
  {
   "cell_type": "markdown",
   "id": "fadc457e-4c43-44d4-86ae-7ebac7c1531a",
   "metadata": {
    "tags": []
   },
   "source": [
    "### One-Hot Encode Labels"
   ]
  },
  {
   "cell_type": "code",
   "execution_count": 15,
   "id": "05560b5e-2a5c-4d09-9267-52fcb395be34",
   "metadata": {},
   "outputs": [
    {
     "data": {
      "text/plain": [
       "array([[1., 0., 0., 0., 0.],\n",
       "       [1., 0., 0., 0., 0.],\n",
       "       [0., 0., 1., 0., 0.],\n",
       "       ...,\n",
       "       [0., 0., 0., 0., 1.],\n",
       "       [0., 0., 0., 0., 1.],\n",
       "       [0., 0., 0., 0., 1.]])"
      ]
     },
     "execution_count": 15,
     "metadata": {},
     "output_type": "execute_result"
    }
   ],
   "source": [
    "# One hot encode labels\n",
    "from sklearn.preprocessing import OneHotEncoder\n",
    "one_hot_encoder = OneHotEncoder(sparse_output=False) # Set this to false as it will output a sparse matrix datatype which is incompatible with TensorFlow (one-hot matrix made mostly of zeroes)\n",
    "train_labels_one_hot = one_hot_encoder.fit_transform(train_df[\"target\"].to_numpy().reshape(-1,1))\n",
    "val_labels_one_hot = one_hot_encoder.transform(val_df[\"target\"].to_numpy().reshape(-1, 1))\n",
    "test_labels_one_hot = one_hot_encoder.transform(test_df[\"target\"].to_numpy().reshape(-1, 1))\n",
    "\n",
    "# check what one-hot encoded labels look like\n",
    "train_labels_one_hot"
   ]
  },
  {
   "cell_type": "markdown",
   "id": "fc12ef06-aadb-4521-8722-e7771d9863dd",
   "metadata": {},
   "source": [
    "### Label Encode Labels"
   ]
  },
  {
   "cell_type": "code",
   "execution_count": 16,
   "id": "08bbac27-fe1e-4006-b42b-ebeafa272d61",
   "metadata": {},
   "outputs": [
    {
     "data": {
      "text/plain": [
       "array([0, 0, 2, ..., 4, 4, 4])"
      ]
     },
     "execution_count": 16,
     "metadata": {},
     "output_type": "execute_result"
    }
   ],
   "source": [
    "# Extract labels (\"target\" columns) and encode them into integers\n",
    "from sklearn.preprocessing import LabelEncoder\n",
    "label_encoder = LabelEncoder()\n",
    "train_labels_encoded = label_encoder.fit_transform(train_df[\"target\"].to_numpy())\n",
    "val_labels_encoded = label_encoder.fit_transform(val_df[\"target\"].to_numpy())\n",
    "test_labels_encoded = label_encoder.fit_transform(test_df[\"target\"].to_numpy())\n",
    "\n",
    "# check what training labels look like\n",
    "train_labels_encoded"
   ]
  },
  {
   "cell_type": "code",
   "execution_count": 17,
   "id": "c965ebc4-59ac-4f65-a8e7-2f5f8fbdbb70",
   "metadata": {},
   "outputs": [
    {
     "data": {
      "text/plain": [
       "(5,\n",
       " array(['BACKGROUND', 'CONCLUSIONS', 'METHODS', 'OBJECTIVE', 'RESULTS'],\n",
       "       dtype=object))"
      ]
     },
     "execution_count": 17,
     "metadata": {},
     "output_type": "execute_result"
    }
   ],
   "source": [
    "# Get class names and number of classes from LabelEncoder instance\n",
    "num_classes = len(label_encoder.classes_)\n",
    "class_names = label_encoder.classes_\n",
    "num_classes, class_names"
   ]
  },
  {
   "cell_type": "markdown",
   "id": "1d74cfdf-957b-4d63-817a-82271fae076a",
   "metadata": {},
   "source": [
    "## Model 0: Multinomial Naive Bayes (baseline)"
   ]
  },
  {
   "cell_type": "markdown",
   "id": "3ea9b0ac-6ff0-43f4-a5da-ee918379a3be",
   "metadata": {},
   "source": [
    "### Create Model"
   ]
  },
  {
   "cell_type": "code",
   "execution_count": 18,
   "id": "82562556-73ac-4cc4-b18e-d617211fb1fd",
   "metadata": {},
   "outputs": [
    {
     "data": {
      "text/html": [
       "<style>#sk-container-id-1 {color: black;}#sk-container-id-1 pre{padding: 0;}#sk-container-id-1 div.sk-toggleable {background-color: white;}#sk-container-id-1 label.sk-toggleable__label {cursor: pointer;display: block;width: 100%;margin-bottom: 0;padding: 0.3em;box-sizing: border-box;text-align: center;}#sk-container-id-1 label.sk-toggleable__label-arrow:before {content: \"▸\";float: left;margin-right: 0.25em;color: #696969;}#sk-container-id-1 label.sk-toggleable__label-arrow:hover:before {color: black;}#sk-container-id-1 div.sk-estimator:hover label.sk-toggleable__label-arrow:before {color: black;}#sk-container-id-1 div.sk-toggleable__content {max-height: 0;max-width: 0;overflow: hidden;text-align: left;background-color: #f0f8ff;}#sk-container-id-1 div.sk-toggleable__content pre {margin: 0.2em;color: black;border-radius: 0.25em;background-color: #f0f8ff;}#sk-container-id-1 input.sk-toggleable__control:checked~div.sk-toggleable__content {max-height: 200px;max-width: 100%;overflow: auto;}#sk-container-id-1 input.sk-toggleable__control:checked~label.sk-toggleable__label-arrow:before {content: \"▾\";}#sk-container-id-1 div.sk-estimator input.sk-toggleable__control:checked~label.sk-toggleable__label {background-color: #d4ebff;}#sk-container-id-1 div.sk-label input.sk-toggleable__control:checked~label.sk-toggleable__label {background-color: #d4ebff;}#sk-container-id-1 input.sk-hidden--visually {border: 0;clip: rect(1px 1px 1px 1px);clip: rect(1px, 1px, 1px, 1px);height: 1px;margin: -1px;overflow: hidden;padding: 0;position: absolute;width: 1px;}#sk-container-id-1 div.sk-estimator {font-family: monospace;background-color: #f0f8ff;border: 1px dotted black;border-radius: 0.25em;box-sizing: border-box;margin-bottom: 0.5em;}#sk-container-id-1 div.sk-estimator:hover {background-color: #d4ebff;}#sk-container-id-1 div.sk-parallel-item::after {content: \"\";width: 100%;border-bottom: 1px solid gray;flex-grow: 1;}#sk-container-id-1 div.sk-label:hover label.sk-toggleable__label {background-color: #d4ebff;}#sk-container-id-1 div.sk-serial::before {content: \"\";position: absolute;border-left: 1px solid gray;box-sizing: border-box;top: 0;bottom: 0;left: 50%;z-index: 0;}#sk-container-id-1 div.sk-serial {display: flex;flex-direction: column;align-items: center;background-color: white;padding-right: 0.2em;padding-left: 0.2em;position: relative;}#sk-container-id-1 div.sk-item {position: relative;z-index: 1;}#sk-container-id-1 div.sk-parallel {display: flex;align-items: stretch;justify-content: center;background-color: white;position: relative;}#sk-container-id-1 div.sk-item::before, #sk-container-id-1 div.sk-parallel-item::before {content: \"\";position: absolute;border-left: 1px solid gray;box-sizing: border-box;top: 0;bottom: 0;left: 50%;z-index: -1;}#sk-container-id-1 div.sk-parallel-item {display: flex;flex-direction: column;z-index: 1;position: relative;background-color: white;}#sk-container-id-1 div.sk-parallel-item:first-child::after {align-self: flex-end;width: 50%;}#sk-container-id-1 div.sk-parallel-item:last-child::after {align-self: flex-start;width: 50%;}#sk-container-id-1 div.sk-parallel-item:only-child::after {width: 0;}#sk-container-id-1 div.sk-dashed-wrapped {border: 1px dashed gray;margin: 0 0.4em 0.5em 0.4em;box-sizing: border-box;padding-bottom: 0.4em;background-color: white;}#sk-container-id-1 div.sk-label label {font-family: monospace;font-weight: bold;display: inline-block;line-height: 1.2em;}#sk-container-id-1 div.sk-label-container {text-align: center;}#sk-container-id-1 div.sk-container {/* jupyter's `normalize.less` sets `[hidden] { display: none; }` but bootstrap.min.css set `[hidden] { display: none !important; }` so we also need the `!important` here to be able to override the default hidden behavior on the sphinx rendered scikit-learn.org. See: https://github.com/scikit-learn/scikit-learn/issues/21755 */display: inline-block !important;position: relative;}#sk-container-id-1 div.sk-text-repr-fallback {display: none;}</style><div id=\"sk-container-id-1\" class=\"sk-top-container\"><div class=\"sk-text-repr-fallback\"><pre>Pipeline(steps=[(&#x27;tf-idf&#x27;, TfidfVectorizer()), (&#x27;clf&#x27;, MultinomialNB())])</pre><b>In a Jupyter environment, please rerun this cell to show the HTML representation or trust the notebook. <br />On GitHub, the HTML representation is unable to render, please try loading this page with nbviewer.org.</b></div><div class=\"sk-container\" hidden><div class=\"sk-item sk-dashed-wrapped\"><div class=\"sk-label-container\"><div class=\"sk-label sk-toggleable\"><input class=\"sk-toggleable__control sk-hidden--visually\" id=\"sk-estimator-id-1\" type=\"checkbox\" ><label for=\"sk-estimator-id-1\" class=\"sk-toggleable__label sk-toggleable__label-arrow\">Pipeline</label><div class=\"sk-toggleable__content\"><pre>Pipeline(steps=[(&#x27;tf-idf&#x27;, TfidfVectorizer()), (&#x27;clf&#x27;, MultinomialNB())])</pre></div></div></div><div class=\"sk-serial\"><div class=\"sk-item\"><div class=\"sk-estimator sk-toggleable\"><input class=\"sk-toggleable__control sk-hidden--visually\" id=\"sk-estimator-id-2\" type=\"checkbox\" ><label for=\"sk-estimator-id-2\" class=\"sk-toggleable__label sk-toggleable__label-arrow\">TfidfVectorizer</label><div class=\"sk-toggleable__content\"><pre>TfidfVectorizer()</pre></div></div></div><div class=\"sk-item\"><div class=\"sk-estimator sk-toggleable\"><input class=\"sk-toggleable__control sk-hidden--visually\" id=\"sk-estimator-id-3\" type=\"checkbox\" ><label for=\"sk-estimator-id-3\" class=\"sk-toggleable__label sk-toggleable__label-arrow\">MultinomialNB</label><div class=\"sk-toggleable__content\"><pre>MultinomialNB()</pre></div></div></div></div></div></div></div>"
      ],
      "text/plain": [
       "Pipeline(steps=[('tf-idf', TfidfVectorizer()), ('clf', MultinomialNB())])"
      ]
     },
     "execution_count": 18,
     "metadata": {},
     "output_type": "execute_result"
    }
   ],
   "source": [
    "from sklearn.feature_extraction.text import TfidfVectorizer\n",
    "from sklearn.naive_bayes import MultinomialNB\n",
    "from sklearn.pipeline import Pipeline\n",
    "\n",
    "# Create a pipeline\n",
    "model_0 = Pipeline([\n",
    "    (\"tf-idf\", TfidfVectorizer()),\n",
    "    (\"clf\", MultinomialNB())\n",
    "])\n",
    "\n",
    "# Fit the pipeline to the training data\n",
    "model_0.fit(X=train_sentences,\n",
    "            y=train_labels_encoded)"
   ]
  },
  {
   "cell_type": "markdown",
   "id": "d5f7d21a-fce2-4be4-9678-af95a497872e",
   "metadata": {},
   "source": [
    "### Evaluate Model"
   ]
  },
  {
   "cell_type": "code",
   "execution_count": 19,
   "id": "ca9180bb-90f4-41af-b22a-e1b2715bc7fa",
   "metadata": {},
   "outputs": [
    {
     "data": {
      "text/plain": [
       "0.7497580533665146"
      ]
     },
     "execution_count": 19,
     "metadata": {},
     "output_type": "execute_result"
    }
   ],
   "source": [
    "# Evaluate baseline model on validation dataset\n",
    "model_0.score(X=val_sentences,\n",
    "              y=val_labels_encoded)"
   ]
  },
  {
   "cell_type": "code",
   "execution_count": 20,
   "id": "42a7ef10-dacd-4ea7-9f49-2c6267fb51d6",
   "metadata": {},
   "outputs": [
    {
     "data": {
      "text/plain": [
       "array([0, 4, 4, ..., 4, 4, 1])"
      ]
     },
     "execution_count": 20,
     "metadata": {},
     "output_type": "execute_result"
    }
   ],
   "source": [
    "# Make predictions using our baseline model\n",
    "baseline_preds = model_0.predict(val_sentences)\n",
    "baseline_preds"
   ]
  },
  {
   "cell_type": "code",
   "execution_count": 21,
   "id": "49049edf-d5eb-4c90-909c-232e551309f4",
   "metadata": {},
   "outputs": [
    {
     "data": {
      "text/plain": [
       "array([0, 4, 4, ..., 4, 1, 1])"
      ]
     },
     "execution_count": 21,
     "metadata": {},
     "output_type": "execute_result"
    }
   ],
   "source": [
    "val_labels_encoded"
   ]
  },
  {
   "cell_type": "code",
   "execution_count": 22,
   "id": "936c97ba-94cd-4e4d-b4af-27d328c207a8",
   "metadata": {},
   "outputs": [
    {
     "data": {
      "text/plain": [
       "{'accuracy': 74.97580533665146,\n",
       " 'precision': 0.7431966265737352,\n",
       " 'recall': 0.7497580533665146,\n",
       " 'f1': 0.7389570175489825}"
      ]
     },
     "execution_count": 22,
     "metadata": {},
     "output_type": "execute_result"
    }
   ],
   "source": [
    "# Calculate baseline results\n",
    "baseline_results = calculate_results(y_true=val_labels_encoded,\n",
    "                                     y_pred=baseline_preds)\n",
    "baseline_results"
   ]
  },
  {
   "cell_type": "markdown",
   "id": "22e2c3bb-2de4-4b3a-877d-3ea158c109e5",
   "metadata": {
    "tags": []
   },
   "source": [
    "## Preprocess Data Pt2: Deep Sequence Models"
   ]
  },
  {
   "cell_type": "markdown",
   "id": "4bcb3add-7bc9-413c-8252-a8ebac9f760a",
   "metadata": {},
   "source": [
    "### Preprocessing Pt2 - Visualized"
   ]
  },
  {
   "cell_type": "code",
   "execution_count": 23,
   "id": "849595eb-c214-4713-ad1c-c10c33563efb",
   "metadata": {},
   "outputs": [],
   "source": [
    "import numpy as np\n",
    "import tensorflow as tf\n",
    "from tensorflow.keras import layers"
   ]
  },
  {
   "cell_type": "code",
   "execution_count": 24,
   "id": "1baa9ad4-46aa-4692-8384-6fcb19825103",
   "metadata": {},
   "outputs": [
    {
     "data": {
      "text/plain": [
       "26.229355280462922"
      ]
     },
     "execution_count": 24,
     "metadata": {},
     "output_type": "execute_result"
    }
   ],
   "source": [
    "# How long is each sentence on average?\n",
    "sent_lens = [len(sentence.split()) for sentence in train_sentences]\n",
    "avg_sent_lens = np.mean(sent_lens)\n",
    "avg_sent_lens"
   ]
  },
  {
   "cell_type": "code",
   "execution_count": 25,
   "id": "b17bf1f2-78a1-428e-b9b2-07350b2f5d05",
   "metadata": {},
   "outputs": [
    {
     "data": {
      "image/png": "[encoded data removed]",
      "text/plain": [
       "<Figure size 640x480 with 1 Axes>"
      ]
     },
     "metadata": {},
     "output_type": "display_data"
    }
   ],
   "source": [
    "# What's the distribution like?\n",
    "import matplotlib.pyplot as plt\n",
    "plt.hist(sent_lens, bins=100); # bins is the 'resolution' of the bars"
   ]
  },
  {
   "cell_type": "code",
   "execution_count": 26,
   "id": "7d22f39c-9cca-46b3-955d-601507f75c5c",
   "metadata": {},
   "outputs": [
    {
     "data": {
      "text/plain": [
       "54"
      ]
     },
     "execution_count": 26,
     "metadata": {},
     "output_type": "execute_result"
    }
   ],
   "source": [
    "# How long of a sentence length covers 95% of examples\n",
    "output_seq_len = int(np.percentile(sent_lens, 95))\n",
    "output_seq_len"
   ]
  },
  {
   "cell_type": "code",
   "execution_count": 27,
   "id": "d935fb58-455f-4092-9057-237babe0b095",
   "metadata": {},
   "outputs": [
    {
     "data": {
      "text/plain": [
       "338"
      ]
     },
     "execution_count": 27,
     "metadata": {},
     "output_type": "execute_result"
    }
   ],
   "source": [
    "# Maximum sequence length in the training set\n",
    "max(sent_lens)"
   ]
  },
  {
   "cell_type": "markdown",
   "id": "f99bcaba-254c-4529-baa4-7ca2413423bc",
   "metadata": {},
   "source": [
    "### Text Vectorization (Token-Level)"
   ]
  },
  {
   "cell_type": "code",
   "execution_count": 28,
   "id": "a32cf691-77bc-4187-8e1f-dc8f0de8334b",
   "metadata": {},
   "outputs": [],
   "source": [
    "# How many words are in our vocabulary? (taken from Table 2 from the PubMed paper)\n",
    "max_tokens = 68000"
   ]
  },
  {
   "cell_type": "code",
   "execution_count": 29,
   "id": "050114bd-c350-4bec-9327-79620f4aad5e",
   "metadata": {},
   "outputs": [],
   "source": [
    "# Create text vectorizer\n",
    "from tensorflow.keras.layers.experimental.preprocessing import TextVectorization\n",
    "\n",
    "text_vectorizer = TextVectorization(max_tokens=max_tokens,\n",
    "                                   output_sequence_length=output_seq_len)"
   ]
  },
  {
   "cell_type": "code",
   "execution_count": 30,
   "id": "d9181abc-6133-4949-a9bb-613da8533b55",
   "metadata": {},
   "outputs": [],
   "source": [
    "# Adapt text vectorizer to training sentences\n",
    "text_vectorizer.adapt(train_sentences)"
   ]
  },
  {
   "cell_type": "code",
   "execution_count": 31,
   "id": "799540d7-cf35-4dff-a366-5548e689fbc6",
   "metadata": {},
   "outputs": [
    {
     "name": "stdout",
     "output_type": "stream",
     "text": [
      "Text:\n",
      "a significant reduction in plasma oxymorphone levels did not substantially alter the pharmacodynamic effects of oxycodone .\n",
      "\n",
      "Length of Text: 123\n",
      "\n",
      "Vectorized Text: [[    8    33   155     5   171 12247    77    98    27  2162  2069     2\n",
      "   2784    58     3  3456     0     0     0     0     0     0     0     0\n",
      "      0     0     0     0     0     0     0     0     0     0     0     0\n",
      "      0     0     0     0     0     0     0     0     0     0     0     0\n",
      "      0     0     0     0     0     0]]\n"
     ]
    }
   ],
   "source": [
    "# Test out text vectorizer on random sentences\n",
    "import random\n",
    "target_sequence = random.choice(train_sentences)\n",
    "print(f\"Text:\\n{target_sequence}\")\n",
    "print(f\"\\nLength of Text: {len(target_sequence)}\")\n",
    "print(f\"\\nVectorized Text: {text_vectorizer([target_sequence])}\")"
   ]
  },
  {
   "cell_type": "code",
   "execution_count": 32,
   "id": "cb9c3e78-1396-4869-88c0-f659300fd4f8",
   "metadata": {},
   "outputs": [
    {
     "name": "stdout",
     "output_type": "stream",
     "text": [
      "Number of words in vocabulary: 68000\n",
      "Most common words in the vocabulary: ['', '[UNK]', 'the', 'of', 'and']\n",
      "Least common words in the vocabulary: ['resite', 'residentmonths', 'rescueeligible', 'rescheduling', 'resc']\n"
     ]
    }
   ],
   "source": [
    "# How many words in our training vocabulary\n",
    "rct_20k_text_vocab = text_vectorizer.get_vocabulary()\n",
    "print(f\"Number of words in vocabulary: {len(rct_20k_text_vocab)}\"), \n",
    "print(f\"Most common words in the vocabulary: {rct_20k_text_vocab[:5]}\")\n",
    "print(f\"Least common words in the vocabulary: {rct_20k_text_vocab[-5:]}\")"
   ]
  },
  {
   "cell_type": "markdown",
   "id": "94c89165-a788-4463-acb0-294c5e613939",
   "metadata": {},
   "source": [
    "May not be 68000 for vocabulary because numbers are removed."
   ]
  },
  {
   "cell_type": "code",
   "execution_count": 33,
   "id": "35fea8b9-ca0b-4ec8-9989-190930067609",
   "metadata": {},
   "outputs": [
    {
     "data": {
      "text/plain": [
       "{'name': 'text_vectorization',\n",
       " 'trainable': True,\n",
       " 'batch_input_shape': (None,),\n",
       " 'dtype': 'string',\n",
       " 'max_tokens': 68000,\n",
       " 'standardize': 'lower_and_strip_punctuation',\n",
       " 'split': 'whitespace',\n",
       " 'ngrams': None,\n",
       " 'output_mode': 'int',\n",
       " 'output_sequence_length': 54,\n",
       " 'pad_to_max_tokens': False,\n",
       " 'sparse': False,\n",
       " 'ragged': False,\n",
       " 'vocabulary': None,\n",
       " 'idf_weights': None}"
      ]
     },
     "execution_count": 33,
     "metadata": {},
     "output_type": "execute_result"
    }
   ],
   "source": [
    "# Get the config of our text vectorizer\n",
    "text_vectorizer.get_config()"
   ]
  },
  {
   "cell_type": "markdown",
   "id": "3978620e-91ea-46b2-bebf-a02e6133d12d",
   "metadata": {},
   "source": [
    "### Embedding (Token-Level)"
   ]
  },
  {
   "cell_type": "code",
   "execution_count": 34,
   "id": "af3c4882-2524-4248-bb1c-6b81690dc414",
   "metadata": {},
   "outputs": [],
   "source": [
    "# Create token embedding layer\n",
    "token_embed = layers.Embedding(input_dim=len(rct_20k_text_vocab),\n",
    "                               output_dim=128,\n",
    "                               mask_zero=True,\n",
    "                               name=\"token_embedding\")"
   ]
  },
  {
   "cell_type": "code",
   "execution_count": 35,
   "id": "e43cbb16-a310-4152-a93b-50d6ea0663c6",
   "metadata": {},
   "outputs": [
    {
     "name": "stdout",
     "output_type": "stream",
     "text": [
      "Sentence before vectorization:\n",
      " a significant reduction in plasma oxymorphone levels did not substantially alter the pharmacodynamic effects of oxycodone .\n",
      "\n",
      "Sentence after vectorization:\n",
      " [[    8    33   155     5   171 12247    77    98    27  2162  2069     2\n",
      "   2784    58     3  3456     0     0     0     0     0     0     0     0\n",
      "      0     0     0     0     0     0     0     0     0     0     0     0\n",
      "      0     0     0     0     0     0     0     0     0     0     0     0\n",
      "      0     0     0     0     0     0]]\n",
      "\n",
      "Sentence after embedding:\n",
      " [[[-0.04718659  0.00132645  0.00195112 ... -0.01720245 -0.04608278\n",
      "   -0.02388762]\n",
      "  [ 0.02695073 -0.01270392 -0.00622638 ... -0.0375638   0.01110689\n",
      "    0.01948956]\n",
      "  [ 0.03412539  0.04304037 -0.02882645 ...  0.0218941   0.03191281\n",
      "   -0.01278884]\n",
      "  ...\n",
      "  [-0.00832491  0.00633172  0.04731054 ...  0.03793342 -0.01458653\n",
      "   -0.02650723]\n",
      "  [-0.00832491  0.00633172  0.04731054 ...  0.03793342 -0.01458653\n",
      "   -0.02650723]\n",
      "  [-0.00832491  0.00633172  0.04731054 ...  0.03793342 -0.01458653\n",
      "   -0.02650723]]]\n",
      "\n",
      "Embedded sentence shape: (1, 54, 128)\n"
     ]
    }
   ],
   "source": [
    "# Show example embedding\n",
    "print(f\"Sentence before vectorization:\\n {target_sequence}\\n\")\n",
    "vectorized_sentence = text_vectorizer([target_sequence])\n",
    "print(f\"Sentence after vectorization:\\n {vectorized_sentence}\\n\")\n",
    "embedded_sentence = token_embed(vectorized_sentence)\n",
    "print(f\"Sentence after embedding:\\n {embedded_sentence}\\n\")\n",
    "print(f\"Embedded sentence shape: {embedded_sentence.shape}\")"
   ]
  },
  {
   "cell_type": "markdown",
   "id": "0d3b0c78-b1b6-41d0-abf7-3f80dbadb7e4",
   "metadata": {
    "tags": []
   },
   "source": [
    "### Build Dataset Pipeline (Token-Level)"
   ]
  },
  {
   "cell_type": "code",
   "execution_count": 36,
   "id": "b156f3b8-157f-4737-ac81-a60f19e4ae4b",
   "metadata": {},
   "outputs": [
    {
     "data": {
      "text/plain": [
       "<TensorSliceDataset element_spec=(TensorSpec(shape=(), dtype=tf.string, name=None), TensorSpec(shape=(5,), dtype=tf.float64, name=None))>"
      ]
     },
     "execution_count": 36,
     "metadata": {},
     "output_type": "execute_result"
    }
   ],
   "source": [
    "# Turn our data into TensorFlow Datasets\n",
    "train_dataset = tf.data.Dataset.from_tensor_slices((train_sentences, train_labels_one_hot))\n",
    "valid_dataset = tf.data.Dataset.from_tensor_slices((val_sentences, val_labels_one_hot))\n",
    "test_dataset = tf.data.Dataset.from_tensor_slices((test_sentences, test_labels_one_hot))\n",
    "\n",
    "train_dataset"
   ]
  },
  {
   "cell_type": "code",
   "execution_count": 37,
   "id": "046a547b-7c6f-416d-86f1-9b50c60cbb99",
   "metadata": {},
   "outputs": [
    {
     "data": {
      "text/plain": [
       "<PrefetchDataset element_spec=(TensorSpec(shape=(None,), dtype=tf.string, name=None), TensorSpec(shape=(None, 5), dtype=tf.float64, name=None))>"
      ]
     },
     "execution_count": 37,
     "metadata": {},
     "output_type": "execute_result"
    }
   ],
   "source": [
    "# Take the TensorSliceDataset's and turn them into prefected datasets\n",
    "train_dataset = train_dataset.batch(32).prefetch(tf.data.AUTOTUNE) # We don't shuffle data here because order matters for this project (line 1, 2, ...)\n",
    "valid_dataset = valid_dataset.batch(32).prefetch(tf.data.AUTOTUNE)\n",
    "test_dataset = test_dataset.batch(32).prefetch(tf.data.AUTOTUNE)\n",
    "\n",
    "train_dataset"
   ]
  },
  {
   "cell_type": "markdown",
   "id": "6097970d-bcb8-4cb2-93f4-28487ae51476",
   "metadata": {},
   "source": [
    "### Text Vectorization (Character-Level)"
   ]
  },
  {
   "cell_type": "code",
   "execution_count": 38,
   "id": "d2f4260d-afdf-42f4-b700-bfbddfcfecf3",
   "metadata": {},
   "outputs": [
    {
     "data": {
      "text/plain": [
       "['the emergence of hiv as a chronic condition means that people living with hiv are required to take more responsibility for the self-management of their condition , including making physical , emotional and social adjustments .',\n",
       " 'this paper describes the design and evaluation of positive outlook , an online program aiming to enhance the self-management skills of gay men living with hiv .',\n",
       " 'this study is designed as a randomised controlled trial in which men living with hiv in australia will be assigned to either an intervention group or usual care control group .',\n",
       " \"the intervention group will participate in the online group program ` positive outlook ' .\",\n",
       " 'the program is based on self-efficacy theory and uses a self-management approach to enhance skills , confidence and abilities to manage the psychosocial issues associated with hiv in daily life .']"
      ]
     },
     "execution_count": 38,
     "metadata": {},
     "output_type": "execute_result"
    }
   ],
   "source": [
    "train_sentences[:5]"
   ]
  },
  {
   "cell_type": "code",
   "execution_count": 39,
   "id": "f978582a-01d4-4060-9a8a-74bf56614c6a",
   "metadata": {},
   "outputs": [
    {
     "data": {
      "text/plain": [
       "'t h e   e m e r g e n c e   o f   h i v   a s   a   c h r o n i c   c o n d i t i o n   m e a n s   t h a t   p e o p l e   l i v i n g   w i t h   h i v   a r e   r e q u i r e d   t o   t a k e   m o r e   r e s p o n s i b i l i t y   f o r   t h e   s e l f - m a n a g e m e n t   o f   t h e i r   c o n d i t i o n   ,   i n c l u d i n g   m a k i n g   p h y s i c a l   ,   e m o t i o n a l   a n d   s o c i a l   a d j u s t m e n t s   .'"
      ]
     },
     "execution_count": 39,
     "metadata": {},
     "output_type": "execute_result"
    }
   ],
   "source": [
    "\" \".join(list(train_sentences[0]))"
   ]
  },
  {
   "cell_type": "code",
   "execution_count": 40,
   "id": "cf6e948d-11ab-4d06-bb04-22bc63f6d141",
   "metadata": {},
   "outputs": [],
   "source": [
    "# Make function to split sentences into characters\n",
    "def split_chars(text):\n",
    "    return \" \".join(list(text))"
   ]
  },
  {
   "cell_type": "code",
   "execution_count": 41,
   "id": "b709b61a-9b13-4ea9-ba72-5de904bfbe0d",
   "metadata": {},
   "outputs": [
    {
     "data": {
      "text/plain": [
       "['t h e   e m e r g e n c e   o f   h i v   a s   a   c h r o n i c   c o n d i t i o n   m e a n s   t h a t   p e o p l e   l i v i n g   w i t h   h i v   a r e   r e q u i r e d   t o   t a k e   m o r e   r e s p o n s i b i l i t y   f o r   t h e   s e l f - m a n a g e m e n t   o f   t h e i r   c o n d i t i o n   ,   i n c l u d i n g   m a k i n g   p h y s i c a l   ,   e m o t i o n a l   a n d   s o c i a l   a d j u s t m e n t s   .',\n",
       " 't h i s   p a p e r   d e s c r i b e s   t h e   d e s i g n   a n d   e v a l u a t i o n   o f   p o s i t i v e   o u t l o o k   ,   a n   o n l i n e   p r o g r a m   a i m i n g   t o   e n h a n c e   t h e   s e l f - m a n a g e m e n t   s k i l l s   o f   g a y   m e n   l i v i n g   w i t h   h i v   .',\n",
       " 't h i s   s t u d y   i s   d e s i g n e d   a s   a   r a n d o m i s e d   c o n t r o l l e d   t r i a l   i n   w h i c h   m e n   l i v i n g   w i t h   h i v   i n   a u s t r a l i a   w i l l   b e   a s s i g n e d   t o   e i t h e r   a n   i n t e r v e n t i o n   g r o u p   o r   u s u a l   c a r e   c o n t r o l   g r o u p   .',\n",
       " \"t h e   i n t e r v e n t i o n   g r o u p   w i l l   p a r t i c i p a t e   i n   t h e   o n l i n e   g r o u p   p r o g r a m   `   p o s i t i v e   o u t l o o k   '   .\",\n",
       " 't h e   p r o g r a m   i s   b a s e d   o n   s e l f - e f f i c a c y   t h e o r y   a n d   u s e s   a   s e l f - m a n a g e m e n t   a p p r o a c h   t o   e n h a n c e   s k i l l s   ,   c o n f i d e n c e   a n d   a b i l i t i e s   t o   m a n a g e   t h e   p s y c h o s o c i a l   i s s u e s   a s s o c i a t e d   w i t h   h i v   i n   d a i l y   l i f e   .']"
      ]
     },
     "execution_count": 41,
     "metadata": {},
     "output_type": "execute_result"
    }
   ],
   "source": [
    "# Split sequence-level data splits into character-level splits\n",
    "train_chars = [split_chars(sentence) for sentence in train_sentences]\n",
    "val_chars = [split_chars(sentence) for sentence in val_sentences]\n",
    "test_chars = [split_chars(sentence) for sentence in test_sentences]\n",
    "train_chars[:5]"
   ]
  },
  {
   "cell_type": "code",
   "execution_count": 42,
   "id": "f67efe2c-fb28-4a7d-9f15-2325126ce88d",
   "metadata": {},
   "outputs": [
    {
     "data": {
      "text/plain": [
       "147.82646377869133"
      ]
     },
     "execution_count": 42,
     "metadata": {},
     "output_type": "execute_result"
    }
   ],
   "source": [
    "# What's the average char length\n",
    "char_lens = [len(sentence) for sentence in train_sentences]\n",
    "mean_char_len = np.mean(char_lens)\n",
    "mean_char_len"
   ]
  },
  {
   "cell_type": "code",
   "execution_count": 43,
   "id": "fc621dcc-2436-4954-945d-668bcaaf1bf5",
   "metadata": {},
   "outputs": [
    {
     "data": {
      "image/png": "[encoded data removed]",
      "text/plain": [
       "<Figure size 640x480 with 1 Axes>"
      ]
     },
     "metadata": {},
     "output_type": "display_data"
    }
   ],
   "source": [
    "# Check the distribution of our sequences at a character-level\n",
    "import matplotlib.pyplot as plt\n",
    "plt.hist(char_lens, bins=100);"
   ]
  },
  {
   "cell_type": "code",
   "execution_count": 44,
   "id": "81d8ae7a-b94c-41d9-88e0-af683ae309b1",
   "metadata": {},
   "outputs": [
    {
     "data": {
      "text/plain": [
       "284"
      ]
     },
     "execution_count": 44,
     "metadata": {},
     "output_type": "execute_result"
    }
   ],
   "source": [
    "# Find what character length covers 95% of sequences\n",
    "output_seq_char_len = int(np.percentile(char_lens, 95))\n",
    "output_seq_char_len"
   ]
  },
  {
   "cell_type": "code",
   "execution_count": 45,
   "id": "3716cda7-f899-45fe-9978-11244aca134d",
   "metadata": {},
   "outputs": [
    {
     "data": {
      "text/plain": [
       "'abcdefghijklmnopqrstuvwxyz0123456789!\"#$%&\\'()*+,-./:;<=>?@[\\\\]^_`{|}~'"
      ]
     },
     "execution_count": 45,
     "metadata": {},
     "output_type": "execute_result"
    }
   ],
   "source": [
    "# Get all keyboard characters \n",
    "import string\n",
    "alphabet = string.ascii_lowercase + string.digits + string.punctuation\n",
    "alphabet"
   ]
  },
  {
   "cell_type": "code",
   "execution_count": 46,
   "id": "3fda4cb8-a38d-4637-ab38-e5569a8f1496",
   "metadata": {},
   "outputs": [],
   "source": [
    "# Create char-level token vectorizer instance\n",
    "NUM_CHAR_TOKENS = len(alphabet) + 2 # Add 2 for space and OOV token (Out of Vocab) [UNK]\n",
    "char_vectorizer = TextVectorization(max_tokens=NUM_CHAR_TOKENS,\n",
    "                                    output_sequence_length=output_seq_char_len,\n",
    "                                    name=\"char_vectorizer\") # Set standardization to None if you want to leave punctuation in"
   ]
  },
  {
   "cell_type": "code",
   "execution_count": 47,
   "id": "461470d3-323d-4cd8-a37f-86a9cd26a984",
   "metadata": {},
   "outputs": [],
   "source": [
    "# Adapt character vectorizer to training characters\n",
    "char_vectorizer.adapt(train_chars)"
   ]
  },
  {
   "cell_type": "code",
   "execution_count": 48,
   "id": "2844aa41-aadd-4e0f-b3f1-75e525970098",
   "metadata": {},
   "outputs": [
    {
     "name": "stdout",
     "output_type": "stream",
     "text": [
      "Number of different characters in character vocab: 28\n",
      "5 most common chars: ['', '[UNK]', 'e', 't', 'a']\n",
      "5 least common chars: ['k', 'x', 'z', 'q', 'j']\n"
     ]
    }
   ],
   "source": [
    "# Check vocab stats\n",
    "char_vocab = char_vectorizer.get_vocabulary()\n",
    "print(f\"Number of different characters in character vocab: {len(char_vocab)}\")\n",
    "print(f\"5 most common chars: {char_vocab[:5]}\")\n",
    "print(f\"5 least common chars: {char_vocab[-5:]}\")"
   ]
  },
  {
   "cell_type": "code",
   "execution_count": 49,
   "id": "5ecc5a24-0f79-4d5f-b1bd-cf25c63b576d",
   "metadata": {},
   "outputs": [
    {
     "name": "stdout",
     "output_type": "stream",
     "text": [
      "Charified text:\n",
      "c h a n g e s   i n   d n a   m e t h y l a t i o n   h a v e   b e e n   a s s o c i a t e d   w i t h   t r a f f i c - r e l a t e d   a i r   p o l l u t i o n   i n   o b s e r v a t i o n a l   s t u d i e s   ,   b u t   t h e   s p e c i f i c   m e c h a n i s m s   a n d   t e m p o r a l   d y n a m i c s   t h e r e i n   h a v e   n o t   b e e n   e x p l o r e d   i n   a   c o n t r o l l e d   s t u d y   o f   a s t h m a t i c s   .\n",
      "\n",
      "Length of random_train_chars: 195\n",
      "\n",
      "Vectorized chars:\n",
      "[[12 13  4  6 18  2  9  5  6 10  6  4 15  2  3 13 19 11  4  3  5  7  6 13\n",
      "   4 21  2 22  2  2  6  4  9  9  7 12  5  4  3  2 10 20  5  3 13  3  8  4\n",
      "  17 17  5 12  8  2 11  4  3  2 10  4  5  8 14  7 11 11 16  3  5  7  6  5\n",
      "   6  7 22  9  2  8 21  4  3  5  7  6  4 11  9  3 16 10  5  2  9 22 16  3\n",
      "   3 13  2  9 14  2 12  5 17  5 12 15  2 12 13  4  6  5  9 15  9  4  6 10\n",
      "   3  2 15 14  7  8  4 11 10 19  6  4 15  5 12  9  3 13  2  8  2  5  6 13\n",
      "   4 21  2  6  7  3 22  2  2  6  2 24 14 11  7  8  2 10  5  6  4 12  7  6\n",
      "   3  8  7 11 11  2 10  9  3 16 10 19  7 17  4  9  3 13 15  4  3  5 12  9\n",
      "   0  0  0  0  0  0  0  0  0  0  0  0  0  0  0  0  0  0  0  0  0  0  0  0\n",
      "   0  0  0  0  0  0  0  0  0  0  0  0  0  0  0  0  0  0  0  0  0  0  0  0\n",
      "   0  0  0  0  0  0  0  0  0  0  0  0  0  0  0  0  0  0  0  0  0  0  0  0\n",
      "   0  0  0  0  0  0  0  0  0  0  0  0  0  0  0  0  0  0  0  0]]\n",
      "\n",
      "Length of vectorized chars: 284\n"
     ]
    }
   ],
   "source": [
    "# Test out character vectorizer\n",
    "random_train_chars = random.choice(train_chars)\n",
    "print(f\"Charified text:\\n{random_train_chars}\")\n",
    "print(f\"\\nLength of random_train_chars: {len(random_train_chars.split())}\")\n",
    "vectorized_chars = char_vectorizer([random_train_chars])\n",
    "print(f\"\\nVectorized chars:\\n{vectorized_chars}\")\n",
    "print(f\"\\nLength of vectorized chars: {len(vectorized_chars[0])}\")"
   ]
  },
  {
   "cell_type": "markdown",
   "id": "fa482067-3e70-44d1-97df-0e546739049c",
   "metadata": {},
   "source": [
    "### Embedding (Character-Level)"
   ]
  },
  {
   "cell_type": "code",
   "execution_count": 50,
   "id": "033eb125-90bc-491a-8f2f-1169cfe3216f",
   "metadata": {},
   "outputs": [],
   "source": [
    "# Create a char embedding layer\n",
    "char_embed = layers.Embedding(input_dim=len(char_vocab), # of different characters\n",
    "                              output_dim=25, # from paper (maybe because there are 26 letters?)\n",
    "                              mask_zero=True,\n",
    "                              name=\"char_embed\")\n",
    "                              "
   ]
  },
  {
   "cell_type": "code",
   "execution_count": 51,
   "id": "510a1ab6-2f55-4745-8e0a-1314d4ae1afd",
   "metadata": {},
   "outputs": [
    {
     "name": "stdout",
     "output_type": "stream",
     "text": [
      "Charified text:\n",
      " c h a n g e s   i n   d n a   m e t h y l a t i o n   h a v e   b e e n   a s s o c i a t e d   w i t h   t r a f f i c - r e l a t e d   a i r   p o l l u t i o n   i n   o b s e r v a t i o n a l   s t u d i e s   ,   b u t   t h e   s p e c i f i c   m e c h a n i s m s   a n d   t e m p o r a l   d y n a m i c s   t h e r e i n   h a v e   n o t   b e e n   e x p l o r e d   i n   a   c o n t r o l l e d   s t u d y   o f   a s t h m a t i c s   .\n",
      "\n",
      "Embedded chars. (after vectorization and embedding):\n",
      " [[[-0.03716042 -0.00717834  0.03744062 ... -0.01155217  0.03157032\n",
      "   -0.00721451]\n",
      "  [-0.01967531 -0.04076372  0.04015574 ... -0.00067635 -0.02292938\n",
      "    0.04754019]\n",
      "  [ 0.02083217 -0.03287131 -0.03093755 ... -0.02631461 -0.00776676\n",
      "    0.03782732]\n",
      "  ...\n",
      "  [-0.02838322  0.01234788  0.04041245 ...  0.03050805 -0.03185584\n",
      "    0.03940972]\n",
      "  [-0.02838322  0.01234788  0.04041245 ...  0.03050805 -0.03185584\n",
      "    0.03940972]\n",
      "  [-0.02838322  0.01234788  0.04041245 ...  0.03050805 -0.03185584\n",
      "    0.03940972]]]\n",
      "\n",
      "Character embedding shape: (1, 284, 25)\n"
     ]
    }
   ],
   "source": [
    "# Test our character embedding layer\n",
    "print(f\"Charified text:\\n {random_train_chars}\\n\")\n",
    "char_embed_example = char_embed(char_vectorizer([random_train_chars]))\n",
    "print(f\"Embedded chars. (after vectorization and embedding):\\n {char_embed_example}\\n\")\n",
    "print(f\"Character embedding shape: {char_embed_example.shape}\")"
   ]
  },
  {
   "cell_type": "markdown",
   "id": "6d150801-e16c-40e1-94ff-c0178b7028e5",
   "metadata": {},
   "source": [
    "### Build Dataset Pipeline (Character-Level)"
   ]
  },
  {
   "cell_type": "code",
   "execution_count": 52,
   "id": "929b4311-8312-4b23-a2c1-c521121850c8",
   "metadata": {},
   "outputs": [
    {
     "data": {
      "text/plain": [
       "<PrefetchDataset element_spec=(TensorSpec(shape=(None,), dtype=tf.string, name=None), TensorSpec(shape=(None, 5), dtype=tf.float64, name=None))>"
      ]
     },
     "execution_count": 52,
     "metadata": {},
     "output_type": "execute_result"
    }
   ],
   "source": [
    "# Create char level datasets\n",
    "train_char_dataset = tf.data.Dataset.from_tensor_slices((train_chars, train_labels_one_hot)).batch(32).prefetch(tf.data.AUTOTUNE)\n",
    "val_char_dataset = tf.data.Dataset.from_tensor_slices((val_chars, val_labels_one_hot)).batch(32).prefetch(tf.data.AUTOTUNE)\n",
    "test_char_dataset = tf.data.Dataset.from_tensor_slices((test_chars, test_labels_one_hot)).batch(32).prefetch(tf.data.AUTOTUNE)\n",
    "\n",
    "train_char_dataset"
   ]
  },
  {
   "cell_type": "markdown",
   "id": "fb8447b9-0c55-46a5-af9d-8808be1620d8",
   "metadata": {},
   "source": [
    "### Build Dataset Pipeline (Token + Character Level)"
   ]
  },
  {
   "cell_type": "code",
   "execution_count": 53,
   "id": "fd0217b3-88a0-4181-95e6-5fa87c318533",
   "metadata": {},
   "outputs": [],
   "source": [
    "# Combine chars and tokens into a dataset\n",
    "train_char_token_data = tf.data.Dataset.from_tensor_slices((train_sentences, train_chars)) # make data (THIS MUST BE THE SAME ORDER AS inputs=[token_model.input, char_model.input]\n",
    "train_char_token_labels = tf.data.Dataset.from_tensor_slices(train_labels_one_hot) # make labels\n",
    "train_char_token_dataset = tf.data.Dataset.zip((train_char_token_data, train_char_token_labels)) # combine data and labels\n",
    "\n",
    "# Prefetch and batch train data\n",
    "train_char_token_dataset = train_char_token_dataset.batch(32).prefetch(tf.data.AUTOTUNE)"
   ]
  },
  {
   "cell_type": "code",
   "execution_count": 54,
   "id": "2befb205-6a0f-4791-91f5-c8bb5ff8c03d",
   "metadata": {},
   "outputs": [],
   "source": [
    "# Repeat the above steps with validation data\n",
    "val_char_token_data = tf.data.Dataset.from_tensor_slices((val_sentences, val_chars)) # make data\n",
    "val_char_token_labels = tf.data.Dataset.from_tensor_slices(val_labels_one_hot) # make labels\n",
    "val_char_token_dataset = tf.data.Dataset.zip((val_char_token_data, val_char_token_labels)) # combine data and labels\n",
    "\n",
    "# Prefetch and batch val data\n",
    "val_char_token_dataset = val_char_token_dataset.batch(32).prefetch(tf.data.AUTOTUNE)"
   ]
  },
  {
   "cell_type": "code",
   "execution_count": 55,
   "id": "50a25eff-475d-4cfa-b9a8-faf7727ffa6c",
   "metadata": {},
   "outputs": [
    {
     "data": {
      "text/plain": [
       "(<PrefetchDataset element_spec=((TensorSpec(shape=(None,), dtype=tf.string, name=None), TensorSpec(shape=(None,), dtype=tf.string, name=None)), TensorSpec(shape=(None, 5), dtype=tf.float64, name=None))>,\n",
       " <PrefetchDataset element_spec=((TensorSpec(shape=(None,), dtype=tf.string, name=None), TensorSpec(shape=(None,), dtype=tf.string, name=None)), TensorSpec(shape=(None, 5), dtype=tf.float64, name=None))>)"
      ]
     },
     "execution_count": 55,
     "metadata": {},
     "output_type": "execute_result"
    }
   ],
   "source": [
    "# Check out our training data and token embedding dataset\n",
    "train_char_token_dataset, val_char_token_dataset"
   ]
  },
  {
   "cell_type": "markdown",
   "id": "fed4ef50-d8b4-4918-9d45-2021f390b0a9",
   "metadata": {
    "tags": []
   },
   "source": [
    "### Text Vectorization (Positional-Level)"
   ]
  },
  {
   "cell_type": "code",
   "execution_count": 56,
   "id": "9ef2d348-ac34-412a-9cae-92a3f9abf34d",
   "metadata": {},
   "outputs": [
    {
     "data": {
      "text/html": [
       "<div>\n",
       "<style scoped>\n",
       "    .dataframe tbody tr th:only-of-type {\n",
       "        vertical-align: middle;\n",
       "    }\n",
       "\n",
       "    .dataframe tbody tr th {\n",
       "        vertical-align: top;\n",
       "    }\n",
       "\n",
       "    .dataframe thead th {\n",
       "        text-align: right;\n",
       "    }\n",
       "</style>\n",
       "<table border=\"1\" class=\"dataframe\">\n",
       "  <thead>\n",
       "    <tr style=\"text-align: right;\">\n",
       "      <th></th>\n",
       "      <th>target</th>\n",
       "      <th>text</th>\n",
       "      <th>line_number</th>\n",
       "      <th>total_lines</th>\n",
       "    </tr>\n",
       "  </thead>\n",
       "  <tbody>\n",
       "    <tr>\n",
       "      <th>0</th>\n",
       "      <td>BACKGROUND</td>\n",
       "      <td>the emergence of hiv as a chronic condition me...</td>\n",
       "      <td>0</td>\n",
       "      <td>10</td>\n",
       "    </tr>\n",
       "    <tr>\n",
       "      <th>1</th>\n",
       "      <td>BACKGROUND</td>\n",
       "      <td>this paper describes the design and evaluation...</td>\n",
       "      <td>1</td>\n",
       "      <td>10</td>\n",
       "    </tr>\n",
       "    <tr>\n",
       "      <th>2</th>\n",
       "      <td>METHODS</td>\n",
       "      <td>this study is designed as a randomised control...</td>\n",
       "      <td>2</td>\n",
       "      <td>10</td>\n",
       "    </tr>\n",
       "    <tr>\n",
       "      <th>3</th>\n",
       "      <td>METHODS</td>\n",
       "      <td>the intervention group will participate in the...</td>\n",
       "      <td>3</td>\n",
       "      <td>10</td>\n",
       "    </tr>\n",
       "    <tr>\n",
       "      <th>4</th>\n",
       "      <td>METHODS</td>\n",
       "      <td>the program is based on self-efficacy theory a...</td>\n",
       "      <td>4</td>\n",
       "      <td>10</td>\n",
       "    </tr>\n",
       "  </tbody>\n",
       "</table>\n",
       "</div>"
      ],
      "text/plain": [
       "       target                                               text  line_number  \\\n",
       "0  BACKGROUND  the emergence of hiv as a chronic condition me...            0   \n",
       "1  BACKGROUND  this paper describes the design and evaluation...            1   \n",
       "2     METHODS  this study is designed as a randomised control...            2   \n",
       "3     METHODS  the intervention group will participate in the...            3   \n",
       "4     METHODS  the program is based on self-efficacy theory a...            4   \n",
       "\n",
       "   total_lines  \n",
       "0           10  \n",
       "1           10  \n",
       "2           10  \n",
       "3           10  \n",
       "4           10  "
      ]
     },
     "execution_count": 56,
     "metadata": {},
     "output_type": "execute_result"
    }
   ],
   "source": [
    "train_df.head()"
   ]
  },
  {
   "cell_type": "markdown",
   "id": "6014ebc0-d224-45b2-9a9a-6a73bf72a914",
   "metadata": {},
   "source": [
    "> **Note** Any engineered features used to train a model must be available at test time. In our case, line numbers and total lines are available."
   ]
  },
  {
   "cell_type": "code",
   "execution_count": 57,
   "id": "7b920864-9d64-4697-88f5-1db48ec44af4",
   "metadata": {},
   "outputs": [
    {
     "data": {
      "text/plain": [
       "line_number\n",
       "0     190654\n",
       "1     190654\n",
       "2     190654\n",
       "3     190644\n",
       "4     190357\n",
       "5     189080\n",
       "6     185551\n",
       "7     177967\n",
       "8     164187\n",
       "9     143835\n",
       "10    117871\n",
       "11     90168\n",
       "12     64864\n",
       "13     44350\n",
       "14     29186\n",
       "15     18785\n",
       "16     11803\n",
       "17      7392\n",
       "18      4688\n",
       "19      3030\n",
       "20      1925\n",
       "21      1268\n",
       "22       814\n",
       "23       564\n",
       "24       398\n",
       "25       288\n",
       "26       214\n",
       "27       159\n",
       "28       118\n",
       "29        88\n",
       "30        64\n",
       "31        55\n",
       "32        42\n",
       "33        34\n",
       "34        21\n",
       "35        17\n",
       "36        12\n",
       "37         9\n",
       "40         6\n",
       "38         6\n",
       "39         6\n",
       "41         5\n",
       "42         5\n",
       "43         5\n",
       "44         4\n",
       "45         4\n",
       "46         3\n",
       "47         2\n",
       "48         2\n",
       "49         2\n",
       "50         1\n",
       "Name: count, dtype: int64"
      ]
     },
     "execution_count": 57,
     "metadata": {},
     "output_type": "execute_result"
    }
   ],
   "source": [
    "# How many different line numbers are there?\n",
    "train_df[\"line_number\"].value_counts()"
   ]
  },
  {
   "cell_type": "code",
   "execution_count": 58,
   "id": "28016095-7463-427e-b038-045cb0082b1d",
   "metadata": {},
   "outputs": [
    {
     "data": {
      "text/plain": [
       "<Axes: ylabel='Frequency'>"
      ]
     },
     "execution_count": 58,
     "metadata": {},
     "output_type": "execute_result"
    },
    {
     "data": {
      "image/png": "[encoded data removed]",
      "text/plain": [
       "<Figure size 640x480 with 1 Axes>"
      ]
     },
     "metadata": {},
     "output_type": "display_data"
    }
   ],
   "source": [
    "# Check the distribution of \"line_number\" column\n",
    "train_df.line_number.plot.hist()"
   ]
  },
  {
   "cell_type": "code",
   "execution_count": 59,
   "id": "3a6f1281-a8ae-4719-bb6d-ff71f2bc7a1f",
   "metadata": {},
   "outputs": [
    {
     "data": {
      "text/plain": [
       "(<tf.Tensor: shape=(10, 15), dtype=float32, numpy=\n",
       " array([[1., 0., 0., 0., 0., 0., 0., 0., 0., 0., 0., 0., 0., 0., 0.],\n",
       "        [0., 1., 0., 0., 0., 0., 0., 0., 0., 0., 0., 0., 0., 0., 0.],\n",
       "        [0., 0., 1., 0., 0., 0., 0., 0., 0., 0., 0., 0., 0., 0., 0.],\n",
       "        [0., 0., 0., 1., 0., 0., 0., 0., 0., 0., 0., 0., 0., 0., 0.],\n",
       "        [0., 0., 0., 0., 1., 0., 0., 0., 0., 0., 0., 0., 0., 0., 0.],\n",
       "        [0., 0., 0., 0., 0., 1., 0., 0., 0., 0., 0., 0., 0., 0., 0.],\n",
       "        [0., 0., 0., 0., 0., 0., 1., 0., 0., 0., 0., 0., 0., 0., 0.],\n",
       "        [0., 0., 0., 0., 0., 0., 0., 1., 0., 0., 0., 0., 0., 0., 0.],\n",
       "        [0., 0., 0., 0., 0., 0., 0., 0., 1., 0., 0., 0., 0., 0., 0.],\n",
       "        [0., 0., 0., 0., 0., 0., 0., 0., 0., 1., 0., 0., 0., 0., 0.]],\n",
       "       dtype=float32)>,\n",
       " TensorShape([2211861, 15]))"
      ]
     },
     "execution_count": 59,
     "metadata": {},
     "output_type": "execute_result"
    }
   ],
   "source": [
    "# Use TensorFlow to create one-hot encoded tensors of our line number column\n",
    "train_line_numbers_one_hot = tf.one_hot(train_df[\"line_number\"].to_numpy(), depth=15) # 15 chosen because it covers most of the dataset, (having too big of an encoding is bad for computation)\n",
    "val_line_numbers_one_hot = tf.one_hot(val_df[\"line_number\"].to_numpy(), depth=15)\n",
    "test_line_numbers_one_hot = tf.one_hot(test_df[\"line_number\"].to_numpy(), depth=15)\n",
    "\n",
    "train_line_numbers_one_hot[:10], train_line_numbers_one_hot.shape"
   ]
  },
  {
   "cell_type": "markdown",
   "id": "037afdfd-c5e0-4426-9923-88e018faba07",
   "metadata": {},
   "source": [
    "We want to one-hot encode this value because we don't want our model to think that line number 2 has twice the weight as line number 1 \n",
    "* This is because when we one-hot encode it, it acts as a \"token vectorizer\". We will then pass it into a Dense layer that acts as an embedding layer in the model.\n",
    "* We don't want the Dense layer to treat those higher values with more weight. We want each to be equal. \n",
    "\n",
    "Let's to the same for our total lines feature"
   ]
  },
  {
   "cell_type": "code",
   "execution_count": 60,
   "id": "cf6a33f8-0107-4e8f-b6cd-6db0636680cd",
   "metadata": {},
   "outputs": [
    {
     "data": {
      "text/plain": [
       "total_lines\n",
       "10    304733\n",
       "11    303648\n",
       "12    266682\n",
       "9     259640\n",
       "13    212296\n",
       "8     183168\n",
       "14    156015\n",
       "15    111712\n",
       "7     110240\n",
       "16     74987\n",
       "6      53088\n",
       "17     48672\n",
       "18     31502\n",
       "19     22100\n",
       "5      21174\n",
       "20     13797\n",
       "21      9988\n",
       "4       6385\n",
       "22      5750\n",
       "23      3984\n",
       "24      2750\n",
       "25      1924\n",
       "26      1485\n",
       "27      1148\n",
       "3       1148\n",
       "28       870\n",
       "29       720\n",
       "33       442\n",
       "31       416\n",
       "30       279\n",
       "32       264\n",
       "35       180\n",
       "34       140\n",
       "37       114\n",
       "36       111\n",
       "50        51\n",
       "49        50\n",
       "46        47\n",
       "45        46\n",
       "43        44\n",
       "40        41\n",
       "2         30\n",
       "Name: count, dtype: int64"
      ]
     },
     "execution_count": 60,
     "metadata": {},
     "output_type": "execute_result"
    }
   ],
   "source": [
    "# How many different number of lines are there\n",
    "train_df[\"total_lines\"].value_counts()"
   ]
  },
  {
   "cell_type": "code",
   "execution_count": 61,
   "id": "b0a64606-f93d-4237-99af-97fb41f6b79a",
   "metadata": {},
   "outputs": [
    {
     "data": {
      "text/plain": [
       "<Axes: ylabel='Frequency'>"
      ]
     },
     "execution_count": 61,
     "metadata": {},
     "output_type": "execute_result"
    },
    {
     "data": {
      "image/png": "[encoded data removed]",
      "text/plain": [
       "<Figure size 640x480 with 1 Axes>"
      ]
     },
     "metadata": {},
     "output_type": "display_data"
    }
   ],
   "source": [
    "# Check the distributions of total lines\n",
    "train_df.total_lines.plot.hist()"
   ]
  },
  {
   "cell_type": "code",
   "execution_count": 62,
   "id": "11b1df04-321c-4564-a78e-413a5ec26293",
   "metadata": {},
   "outputs": [
    {
     "data": {
      "text/plain": [
       "20.0"
      ]
     },
     "execution_count": 62,
     "metadata": {},
     "output_type": "execute_result"
    }
   ],
   "source": [
    "# Check the coverage of a \"total_lines\" value of 20\n",
    "np.percentile(train_df.total_lines, 98)"
   ]
  },
  {
   "cell_type": "code",
   "execution_count": 63,
   "id": "6db6dd39-cb0d-400d-ad47-baf1756a1bf4",
   "metadata": {},
   "outputs": [
    {
     "data": {
      "text/plain": [
       "(<tf.Tensor: shape=(10, 20), dtype=float32, numpy=\n",
       " array([[0., 0., 0., 0., 0., 0., 0., 0., 0., 0., 1., 0., 0., 0., 0., 0.,\n",
       "         0., 0., 0., 0.],\n",
       "        [0., 0., 0., 0., 0., 0., 0., 0., 0., 0., 1., 0., 0., 0., 0., 0.,\n",
       "         0., 0., 0., 0.],\n",
       "        [0., 0., 0., 0., 0., 0., 0., 0., 0., 0., 1., 0., 0., 0., 0., 0.,\n",
       "         0., 0., 0., 0.],\n",
       "        [0., 0., 0., 0., 0., 0., 0., 0., 0., 0., 1., 0., 0., 0., 0., 0.,\n",
       "         0., 0., 0., 0.],\n",
       "        [0., 0., 0., 0., 0., 0., 0., 0., 0., 0., 1., 0., 0., 0., 0., 0.,\n",
       "         0., 0., 0., 0.],\n",
       "        [0., 0., 0., 0., 0., 0., 0., 0., 0., 0., 1., 0., 0., 0., 0., 0.,\n",
       "         0., 0., 0., 0.],\n",
       "        [0., 0., 0., 0., 0., 0., 0., 0., 0., 0., 1., 0., 0., 0., 0., 0.,\n",
       "         0., 0., 0., 0.],\n",
       "        [0., 0., 0., 0., 0., 0., 0., 0., 0., 0., 1., 0., 0., 0., 0., 0.,\n",
       "         0., 0., 0., 0.],\n",
       "        [0., 0., 0., 0., 0., 0., 0., 0., 0., 0., 1., 0., 0., 0., 0., 0.,\n",
       "         0., 0., 0., 0.],\n",
       "        [0., 0., 0., 0., 0., 0., 0., 0., 0., 0., 1., 0., 0., 0., 0., 0.,\n",
       "         0., 0., 0., 0.]], dtype=float32)>,\n",
       " TensorShape([2211861, 20]))"
      ]
     },
     "execution_count": 63,
     "metadata": {},
     "output_type": "execute_result"
    }
   ],
   "source": [
    "# Use TensorFlow to create one-hot encoded tensors of our total lines feature\n",
    "train_total_lines_one_hot = tf.one_hot(train_df[\"total_lines\"].to_numpy(), depth=20)\n",
    "val_total_lines_one_hot = tf.one_hot(val_df[\"total_lines\"].to_numpy(), depth=20)\n",
    "test_total_lines_one_hot = tf.one_hot(test_df[\"total_lines\"].to_numpy(), depth=20)\n",
    "\n",
    "train_total_lines_one_hot[:10], train_total_lines_one_hot.shape"
   ]
  },
  {
   "cell_type": "markdown",
   "id": "545a7a8b-3a29-48d5-83e5-e5a8a136f5cd",
   "metadata": {},
   "source": [
    "### Build Dataset Pipeline (Token + Character + Positional)"
   ]
  },
  {
   "cell_type": "code",
   "execution_count": 64,
   "id": "f5559c10-faf3-4fd2-a23d-ebf7753ca2f3",
   "metadata": {},
   "outputs": [],
   "source": [
    "# Creating training and validation datasets (with all 4 different kinds of inputs)\n",
    "train_char_token_pos_data = tf.data.Dataset.from_tensor_slices((train_line_numbers_one_hot,\n",
    "                                                                train_total_lines_one_hot,\n",
    "                                                                train_sentences,\n",
    "                                                                train_chars))\n",
    "train_char_token_pos_labels = tf.data.Dataset.from_tensor_slices(train_labels_one_hot)\n",
    "train_char_token_pos_dataset = tf.data.Dataset.zip((train_char_token_pos_data, train_char_token_pos_labels))\n",
    "train_char_token_pos_dataset = train_char_token_pos_dataset.batch(32).prefetch(tf.data.AUTOTUNE)\n",
    "\n",
    "# Do the same for validation dataset\n",
    "val_char_token_pos_data = tf.data.Dataset.from_tensor_slices((val_line_numbers_one_hot,\n",
    "                                                                val_total_lines_one_hot,\n",
    "                                                                val_sentences,\n",
    "                                                                val_chars))\n",
    "val_char_token_pos_labels = tf.data.Dataset.from_tensor_slices(val_labels_one_hot)\n",
    "val_char_token_pos_dataset = tf.data.Dataset.zip((val_char_token_pos_data, val_char_token_pos_labels))\n",
    "val_char_token_pos_dataset = val_char_token_pos_dataset.batch(32).prefetch(tf.data.AUTOTUNE)"
   ]
  },
  {
   "cell_type": "code",
   "execution_count": 65,
   "id": "56a74182-1bb1-4d3a-898f-b44a0b4100bb",
   "metadata": {},
   "outputs": [
    {
     "data": {
      "text/plain": [
       "(<PrefetchDataset element_spec=((TensorSpec(shape=(None, 15), dtype=tf.float32, name=None), TensorSpec(shape=(None, 20), dtype=tf.float32, name=None), TensorSpec(shape=(None,), dtype=tf.string, name=None), TensorSpec(shape=(None,), dtype=tf.string, name=None)), TensorSpec(shape=(None, 5), dtype=tf.float64, name=None))>,\n",
       " <PrefetchDataset element_spec=((TensorSpec(shape=(None, 15), dtype=tf.float32, name=None), TensorSpec(shape=(None, 20), dtype=tf.float32, name=None), TensorSpec(shape=(None,), dtype=tf.string, name=None), TensorSpec(shape=(None,), dtype=tf.string, name=None)), TensorSpec(shape=(None, 5), dtype=tf.float64, name=None))>)"
      ]
     },
     "execution_count": 65,
     "metadata": {},
     "output_type": "execute_result"
    }
   ],
   "source": [
    "# Check input shapes\n",
    "train_char_token_pos_dataset, val_char_token_pos_dataset"
   ]
  },
  {
   "cell_type": "markdown",
   "id": "8d5a201c-0bd2-4982-968d-e5d6daa02857",
   "metadata": {},
   "source": [
    "## Model 1: Conv1D (CNN - Token Embedding)"
   ]
  },
  {
   "cell_type": "markdown",
   "id": "e48cfbec-efba-4be7-905a-667e563b7e68",
   "metadata": {},
   "source": [
    "### Create Model"
   ]
  },
  {
   "cell_type": "code",
   "execution_count": 66,
   "id": "7a83fa70-c2d4-4152-bd0c-ce82950f7df5",
   "metadata": {},
   "outputs": [],
   "source": [
    "# Create 1D conv model to process sequences\n",
    "inputs = layers.Input(shape=(1,), dtype=tf.string)\n",
    "text_vectors = text_vectorizer(inputs)\n",
    "token_embeddings = token_embed(text_vectors)\n",
    "x = layers.Conv1D(64, kernel_size=5, padding=\"same\", activation=\"relu\")(token_embeddings)\n",
    "x = layers.GlobalAveragePooling1D()(x)\n",
    "outputs = layers.Dense(num_classes, activation=\"softmax\")(x)\n",
    "model_1 = tf.keras.Model(inputs, outputs)\n",
    "\n",
    "# Compile\n",
    "model_1.compile(loss=\"categorical_crossentropy\",\n",
    "                optimizer=tf.keras.optimizers.Adam(),\n",
    "                metrics=[\"accuracy\"])"
   ]
  },
  {
   "cell_type": "code",
   "execution_count": 67,
   "id": "9c8d29a6-1ff8-4b32-98f9-c4168978b7c5",
   "metadata": {},
   "outputs": [
    {
     "name": "stdout",
     "output_type": "stream",
     "text": [
      "Model: \"model\"\n",
      "_________________________________________________________________\n",
      " Layer (type)                Output Shape              Param #   \n",
      "=================================================================\n",
      " input_1 (InputLayer)        [(None, 1)]               0         \n",
      "                                                                 \n",
      " text_vectorization (TextVec  (None, 54)               0         \n",
      " torization)                                                     \n",
      "                                                                 \n",
      " token_embedding (Embedding)  (None, 54, 128)          8704000   \n",
      "                                                                 \n",
      " conv1d (Conv1D)             (None, 54, 64)            41024     \n",
      "                                                                 \n",
      " global_average_pooling1d (G  (None, 64)               0         \n",
      " lobalAveragePooling1D)                                          \n",
      "                                                                 \n",
      " dense (Dense)               (None, 5)                 325       \n",
      "                                                                 \n",
      "=================================================================\n",
      "Total params: 8,745,349\n",
      "Trainable params: 8,745,349\n",
      "Non-trainable params: 0\n",
      "_________________________________________________________________\n"
     ]
    }
   ],
   "source": [
    "model_1.summary()"
   ]
  },
  {
   "cell_type": "code",
   "execution_count": 68,
   "id": "53584624-5f11-47a5-8f3a-37333ecc9b4b",
   "metadata": {},
   "outputs": [
    {
     "data": {
      "text/plain": [
       "69121"
      ]
     },
     "execution_count": 68,
     "metadata": {},
     "output_type": "execute_result"
    }
   ],
   "source": [
    "# Batch size\n",
    "len(train_dataset)"
   ]
  },
  {
   "cell_type": "markdown",
   "id": "e85a15c2-88ef-49e0-a3e8-51e34b3abdaa",
   "metadata": {},
   "source": [
    "Too many batches! Let's look at 10% of this dataset to run experiments faster (When scaling models to find the best, you should be able to run experiments every 5 minutes)"
   ]
  },
  {
   "cell_type": "code",
   "execution_count": 69,
   "id": "2933c09f-501e-4689-8558-26f5c6ef6b46",
   "metadata": {},
   "outputs": [
    {
     "name": "stdout",
     "output_type": "stream",
     "text": [
      "Epoch 1/3\n",
      "6912/6912 [==============================] - 55s 7ms/step - loss: 0.5900 - accuracy: 0.7892 - val_loss: 0.5084 - val_accuracy: 0.8160\n",
      "Epoch 2/3\n",
      "6912/6912 [==============================] - 52s 7ms/step - loss: 0.5032 - accuracy: 0.8222 - val_loss: 0.4733 - val_accuracy: 0.8302\n",
      "Epoch 3/3\n",
      "6912/6912 [==============================] - 52s 8ms/step - loss: 0.4813 - accuracy: 0.8299 - val_loss: 0.4574 - val_accuracy: 0.8333\n"
     ]
    }
   ],
   "source": [
    "# Fit the model\n",
    "history_model_1 = model_1.fit(train_dataset,\n",
    "                              steps_per_epoch=int(0.1*len(train_dataset)),\n",
    "                              epochs=3,\n",
    "                              validation_data=valid_dataset,\n",
    "                              validation_steps=int(0.1*len(valid_dataset)))"
   ]
  },
  {
   "cell_type": "markdown",
   "id": "f70b13c4-c4aa-41e7-8f49-7284f17c4e11",
   "metadata": {},
   "source": [
    "### Evaluate Model"
   ]
  },
  {
   "cell_type": "code",
   "execution_count": 70,
   "id": "d6287616-d448-4964-8ebe-f1d57a4cb204",
   "metadata": {},
   "outputs": [
    {
     "name": "stdout",
     "output_type": "stream",
     "text": [
      "905/905 [==============================] - 2s 2ms/step - loss: 0.4633 - accuracy: 0.8362\n"
     ]
    },
    {
     "data": {
      "text/plain": [
       "[0.4632856845855713, 0.836167573928833]"
      ]
     },
     "execution_count": 70,
     "metadata": {},
     "output_type": "execute_result"
    }
   ],
   "source": [
    "# Evaluate on whole validation dataset\n",
    "model_1.evaluate(valid_dataset)"
   ]
  },
  {
   "cell_type": "code",
   "execution_count": 71,
   "id": "288dcd88-f7bf-451d-9896-488e11c89f89",
   "metadata": {},
   "outputs": [
    {
     "data": {
      "text/plain": [
       "(array([[8.8339651e-01, 2.7701638e-03, 6.4596925e-06, 1.1382154e-01,\n",
       "         5.2990595e-06],\n",
       "        [1.2069642e-02, 6.4483266e-03, 8.9464235e-01, 9.8573156e-03,\n",
       "         7.6982297e-02],\n",
       "        [1.0655625e-03, 1.2574568e-01, 3.9092153e-03, 2.0087614e-04,\n",
       "         8.6907864e-01],\n",
       "        ...,\n",
       "        [6.2904821e-04, 4.1761100e-01, 9.1323302e-05, 1.3119965e-04,\n",
       "         5.8153743e-01],\n",
       "        [1.1965471e-02, 3.0398336e-01, 3.0482037e-03, 4.1209953e-03,\n",
       "         6.7688197e-01],\n",
       "        [2.1259251e-01, 6.6860396e-01, 3.6320454e-03, 1.0750895e-01,\n",
       "         7.6625454e-03]], dtype=float32),\n",
       " (28932, 5))"
      ]
     },
     "execution_count": 71,
     "metadata": {},
     "output_type": "execute_result"
    }
   ],
   "source": [
    "# Make predictions (our model predicts prediction probabilities for each class)\n",
    "model_1_pred_probs = model_1.predict(valid_dataset)\n",
    "model_1_pred_probs, model_1_pred_probs.shape"
   ]
  },
  {
   "cell_type": "code",
   "execution_count": 72,
   "id": "75fc5de2-c375-4fd6-827f-fa2c44c5dab8",
   "metadata": {},
   "outputs": [
    {
     "data": {
      "text/plain": [
       "<tf.Tensor: shape=(28932,), dtype=int64, numpy=array([0, 2, 4, ..., 4, 4, 1], dtype=int64)>"
      ]
     },
     "execution_count": 72,
     "metadata": {},
     "output_type": "execute_result"
    }
   ],
   "source": [
    "# Convert pred probs into classes\n",
    "model_1_preds = tf.argmax(model_1_pred_probs, axis=1)\n",
    "model_1_preds"
   ]
  },
  {
   "cell_type": "code",
   "execution_count": 73,
   "id": "c29cc464-145f-4f86-9530-95dfd9d28ae6",
   "metadata": {},
   "outputs": [
    {
     "data": {
      "text/plain": [
       "array(['BACKGROUND', 'CONCLUSIONS', 'METHODS', 'OBJECTIVE', 'RESULTS'],\n",
       "      dtype=object)"
      ]
     },
     "execution_count": 73,
     "metadata": {},
     "output_type": "execute_result"
    }
   ],
   "source": [
    "class_names"
   ]
  },
  {
   "cell_type": "code",
   "execution_count": 74,
   "id": "f87876eb-e608-4cb9-b642-726f97a3a39c",
   "metadata": {},
   "outputs": [
    {
     "data": {
      "text/plain": [
       "{'accuracy': 83.6167565325591,\n",
       " 'precision': 0.8397459028311641,\n",
       " 'recall': 0.836167565325591,\n",
       " 'f1': 0.8341798219915975}"
      ]
     },
     "execution_count": 74,
     "metadata": {},
     "output_type": "execute_result"
    }
   ],
   "source": [
    "# Calculate model_1 results\n",
    "model_1_results = calculate_results(val_labels_encoded,\n",
    "                                    model_1_preds)\n",
    "model_1_results"
   ]
  },
  {
   "cell_type": "code",
   "execution_count": 75,
   "id": "cf0ac205-76a1-4f10-9591-7bd18986a763",
   "metadata": {},
   "outputs": [
    {
     "data": {
      "text/plain": [
       "{'accuracy': 74.97580533665146,\n",
       " 'precision': 0.7431966265737352,\n",
       " 'recall': 0.7497580533665146,\n",
       " 'f1': 0.7389570175489825}"
      ]
     },
     "execution_count": 75,
     "metadata": {},
     "output_type": "execute_result"
    }
   ],
   "source": [
    "baseline_results"
   ]
  },
  {
   "cell_type": "markdown",
   "id": "1c474b88-cb0c-46c8-82d5-25a9038f059d",
   "metadata": {},
   "source": [
    "## Model 2: TF Hub Pretrained USE\n",
    "\n",
    "From Tensorflow Hub, use Universal Sentence Encoder\n",
    "https://tfhub.dev/google/universal-sentence-encoder/4"
   ]
  },
  {
   "cell_type": "markdown",
   "id": "3bfeca5c-8b20-4ae8-a613-ce636ec430ab",
   "metadata": {},
   "source": [
    "### Create Model"
   ]
  },
  {
   "cell_type": "code",
   "execution_count": 76,
   "id": "ac62b182-b793-4f30-bb5e-fefc816564c7",
   "metadata": {},
   "outputs": [],
   "source": [
    "# Download pretrained TensorFlow Hub USE\n",
    "import tensorflow_hub as hub\n",
    "tf_hub_embedding_layer = hub.KerasLayer(\"https://tfhub.dev/google/universal-sentence-encoder/4\",\n",
    "                                        trainable=False,\n",
    "                                        name=\"universal_sentence_encoder\")"
   ]
  },
  {
   "cell_type": "code",
   "execution_count": 77,
   "id": "5669b9a7-9e00-4a50-8563-882b6d0519b6",
   "metadata": {},
   "outputs": [],
   "source": [
    "# Define feature extraction model using TF Hub layer\n",
    "inputs = layers.Input(shape=[], dtype=tf.string)\n",
    "pretrained_embedding = tf_hub_embedding_layer(inputs)\n",
    "x = layers.Dense(128, activation=\"relu\")(pretrained_embedding)\n",
    "outputs = layers.Dense(num_classes, activation=\"softmax\")(x)\n",
    "model_2 = tf.keras.Model(inputs, outputs, name=\"model_2_USE_feature_extractor\")\n",
    "\n",
    "# Compile\n",
    "model_2.compile(loss=\"categorical_crossentropy\",\n",
    "                optimizer=tf.keras.optimizers.Adam(),\n",
    "                metrics=[\"accuracy\"])"
   ]
  },
  {
   "cell_type": "code",
   "execution_count": 78,
   "id": "4123bc74-89c9-40cd-9848-2f6e33c6a072",
   "metadata": {},
   "outputs": [
    {
     "name": "stdout",
     "output_type": "stream",
     "text": [
      "Model: \"model_2_USE_feature_extractor\"\n",
      "_________________________________________________________________\n",
      " Layer (type)                Output Shape              Param #   \n",
      "=================================================================\n",
      " input_2 (InputLayer)        [(None,)]                 0         \n",
      "                                                                 \n",
      " universal_sentence_encoder   (None, 512)              256797824 \n",
      " (KerasLayer)                                                    \n",
      "                                                                 \n",
      " dense_1 (Dense)             (None, 128)               65664     \n",
      "                                                                 \n",
      " dense_2 (Dense)             (None, 5)                 645       \n",
      "                                                                 \n",
      "=================================================================\n",
      "Total params: 256,864,133\n",
      "Trainable params: 66,309\n",
      "Non-trainable params: 256,797,824\n",
      "_________________________________________________________________\n"
     ]
    }
   ],
   "source": [
    "model_2.summary()"
   ]
  },
  {
   "cell_type": "code",
   "execution_count": 79,
   "id": "e87c4495-56e6-41fd-a567-4fe3e26559cd",
   "metadata": {},
   "outputs": [
    {
     "name": "stdout",
     "output_type": "stream",
     "text": [
      "Epoch 1/3\n",
      "6912/6912 [==============================] - 77s 11ms/step - loss: 0.6976 - accuracy: 0.7346 - val_loss: 0.6318 - val_accuracy: 0.7559\n",
      "Epoch 2/3\n",
      "6912/6912 [==============================] - 77s 11ms/step - loss: 0.6237 - accuracy: 0.7644 - val_loss: 0.6001 - val_accuracy: 0.7670\n",
      "Epoch 3/3\n",
      "6912/6912 [==============================] - 78s 11ms/step - loss: 0.6012 - accuracy: 0.7736 - val_loss: 0.5820 - val_accuracy: 0.7851\n"
     ]
    }
   ],
   "source": [
    "# Fit model_2 to the data \n",
    "history_model_2 = model_2.fit(train_dataset,\n",
    "                              epochs=3,\n",
    "                              steps_per_epoch=int(0.1*len(train_dataset)),\n",
    "                              validation_data=valid_dataset,\n",
    "                              validation_steps=int(0.1*len(valid_dataset)))"
   ]
  },
  {
   "cell_type": "markdown",
   "id": "d1d6d1d7-06ab-4159-a213-3e7fc8515d16",
   "metadata": {},
   "source": [
    "### Evaluate Model"
   ]
  },
  {
   "cell_type": "code",
   "execution_count": 80,
   "id": "390de03d-fd20-47be-9790-563a026d81f9",
   "metadata": {},
   "outputs": [
    {
     "name": "stdout",
     "output_type": "stream",
     "text": [
      "905/905 [==============================] - 11s 12ms/step - loss: 0.5876 - accuracy: 0.7769\n"
     ]
    },
    {
     "data": {
      "text/plain": [
       "[0.5875676870346069, 0.7769252061843872]"
      ]
     },
     "execution_count": 80,
     "metadata": {},
     "output_type": "execute_result"
    }
   ],
   "source": [
    "# Evaluate on the whole validation data\n",
    "model_2.evaluate(valid_dataset)"
   ]
  },
  {
   "cell_type": "code",
   "execution_count": 81,
   "id": "9247e468-e85c-44f9-9230-eed0d55f0719",
   "metadata": {},
   "outputs": [
    {
     "data": {
      "text/plain": [
       "array([[0.099355  , 0.44313422, 0.06110542, 0.0304432 , 0.3659622 ],\n",
       "       [0.06181712, 0.12799855, 0.5732459 , 0.09933567, 0.13760282],\n",
       "       [0.00260915, 0.11215944, 0.03015374, 0.00104151, 0.85403615],\n",
       "       ...,\n",
       "       [0.01072781, 0.50832325, 0.00265131, 0.00215782, 0.47613978],\n",
       "       [0.03991797, 0.30423275, 0.06624716, 0.01134944, 0.57825273],\n",
       "       [0.22752559, 0.6284797 , 0.00136869, 0.13831103, 0.004315  ]],\n",
       "      dtype=float32)"
      ]
     },
     "execution_count": 81,
     "metadata": {},
     "output_type": "execute_result"
    }
   ],
   "source": [
    "# Make predictions with feature extraction model\n",
    "model_2_pred_probs = model_2.predict(valid_dataset)\n",
    "model_2_pred_probs"
   ]
  },
  {
   "cell_type": "code",
   "execution_count": 82,
   "id": "47bbc646-83bd-4902-96f0-b4f0443aebf6",
   "metadata": {},
   "outputs": [
    {
     "data": {
      "text/plain": [
       "<tf.Tensor: shape=(28932,), dtype=int64, numpy=array([1, 2, 4, ..., 1, 4, 1], dtype=int64)>"
      ]
     },
     "execution_count": 82,
     "metadata": {},
     "output_type": "execute_result"
    }
   ],
   "source": [
    "# Convert the prediction probabilities to labels\n",
    "model_2_preds = tf.argmax(model_2_pred_probs, axis=1)\n",
    "model_2_preds"
   ]
  },
  {
   "cell_type": "code",
   "execution_count": 83,
   "id": "fea4eb67-7ed1-4e9e-b3df-6b524e52ab80",
   "metadata": {},
   "outputs": [
    {
     "data": {
      "text/plain": [
       "{'accuracy': 77.69252039264482,\n",
       " 'precision': 0.7744313258122634,\n",
       " 'recall': 0.7769252039264483,\n",
       " 'f1': 0.774553805851423}"
      ]
     },
     "execution_count": 83,
     "metadata": {},
     "output_type": "execute_result"
    }
   ],
   "source": [
    "# Calculate results\n",
    "model_2_results = calculate_results(val_labels_encoded,\n",
    "                                    model_2_preds)\n",
    "model_2_results"
   ]
  },
  {
   "cell_type": "code",
   "execution_count": 84,
   "id": "a6b4a8a8-5412-46cf-b994-a29f05cf982c",
   "metadata": {},
   "outputs": [
    {
     "data": {
      "text/plain": [
       "{'accuracy': 74.97580533665146,\n",
       " 'precision': 0.7431966265737352,\n",
       " 'recall': 0.7497580533665146,\n",
       " 'f1': 0.7389570175489825}"
      ]
     },
     "execution_count": 84,
     "metadata": {},
     "output_type": "execute_result"
    }
   ],
   "source": [
    "baseline_results"
   ]
  },
  {
   "cell_type": "markdown",
   "id": "c948826d-58df-41f9-9c62-ff4454c484e4",
   "metadata": {},
   "source": [
    "### Model 2 - Visualized"
   ]
  },
  {
   "cell_type": "code",
   "execution_count": 85,
   "id": "aac4cd68-35aa-4fbe-b67b-108a717a9e6c",
   "metadata": {},
   "outputs": [
    {
     "name": "stdout",
     "output_type": "stream",
     "text": [
      "Random sentence:\n",
      "a single dose of intravesical @ mg epirubicin chemotherapy during the early postoperative period for primary intermediate-risk non-muscle-invasive urothelial cancer achieved @ months of mean disease-free survival .\n",
      "Sentence after embedding:\n",
      "[-0.02379074 -0.03519554 -0.03901269 -0.04124235 -0.05491007 -0.08717611\n",
      " -0.01470656  0.00261142  0.08138072  0.03173038  0.09025984 -0.05431676\n",
      " -0.07048858  0.00615811  0.04962636  0.0341422  -0.09020355 -0.04744527\n",
      "  0.02497893  0.04503528 -0.08674748  0.05466197  0.03733991  0.0054003\n",
      "  0.07357749  0.02436569  0.01709219 -0.05845862 -0.01169271  0.02334688]\n",
      "\n",
      "Length: 512\n"
     ]
    }
   ],
   "source": [
    "# Test out pretrained embedding layer on random sentence\n",
    "random_train_sentence = random.choice(train_sentences)\n",
    "print(f\"Random sentence:\\n{random_train_sentence}\")\n",
    "use_embedded_sentence = tf_hub_embedding_layer([random_train_sentence])\n",
    "print(f\"Sentence after embedding:\\n{use_embedded_sentence[0][:30]}\\n\")\n",
    "print(f\"Length: {len(use_embedded_sentence[0])}\")"
   ]
  },
  {
   "cell_type": "markdown",
   "id": "c7af9e79-ca6e-4fb2-9cce-966d7e0a659d",
   "metadata": {
    "tags": []
   },
   "source": [
    "## Model 3: Conv1D (CNN - Character Embedding)\n",
    "\n",
    "The paper we're replicating used a combination of token and character level embeddings.\n",
    "\n",
    "https://arxiv.org/pdf/1612.05251.pdf\n",
    "\n",
    "We need to repeat previous steps with char-level embeddings."
   ]
  },
  {
   "cell_type": "markdown",
   "id": "782a5f02-d6a8-40ba-9ca1-75d732ac2fbc",
   "metadata": {},
   "source": [
    "### Create Model"
   ]
  },
  {
   "cell_type": "code",
   "execution_count": 86,
   "id": "9fb72fc6-730d-468e-bb36-898b086c2ed2",
   "metadata": {},
   "outputs": [],
   "source": [
    "# Make Conv1D on chars only\\\n",
    "inputs = layers.Input(shape=(1,), dtype=tf.string)\n",
    "char_vectors = char_vectorizer(inputs)\n",
    "char_embeddings = char_embed(char_vectors)\n",
    "x = layers.Conv1D(64, kernel_size=5, padding=\"same\", activation=\"relu\")(char_embeddings)\n",
    "x = layers.GlobalMaxPooling1D()(x) # Test both Max and Average Pool\n",
    "outputs = layers.Dense(num_classes, activation=\"softmax\")(x)\n",
    "model_3 = tf.keras.Model(inputs, outputs, name=\"model_3_conv1d_char_embeddings\")\n",
    "\n",
    "# Compile\n",
    "model_3.compile(loss=\"categorical_crossentropy\",\n",
    "                optimizer=tf.keras.optimizers.Adam(),\n",
    "                metrics=[\"accuracy\"])"
   ]
  },
  {
   "cell_type": "code",
   "execution_count": 87,
   "id": "15a60591-adf9-4d4a-a233-c2a5c0d877bb",
   "metadata": {},
   "outputs": [
    {
     "name": "stdout",
     "output_type": "stream",
     "text": [
      "Model: \"model_3_conv1d_char_embeddings\"\n",
      "_________________________________________________________________\n",
      " Layer (type)                Output Shape              Param #   \n",
      "=================================================================\n",
      " input_3 (InputLayer)        [(None, 1)]               0         \n",
      "                                                                 \n",
      " char_vectorizer (TextVector  (None, 284)              0         \n",
      " ization)                                                        \n",
      "                                                                 \n",
      " char_embed (Embedding)      (None, 284, 25)           700       \n",
      "                                                                 \n",
      " conv1d_1 (Conv1D)           (None, 284, 64)           8064      \n",
      "                                                                 \n",
      " global_max_pooling1d (Globa  (None, 64)               0         \n",
      " lMaxPooling1D)                                                  \n",
      "                                                                 \n",
      " dense_3 (Dense)             (None, 5)                 325       \n",
      "                                                                 \n",
      "=================================================================\n",
      "Total params: 9,089\n",
      "Trainable params: 9,089\n",
      "Non-trainable params: 0\n",
      "_________________________________________________________________\n"
     ]
    }
   ],
   "source": [
    "model_3.summary()"
   ]
  },
  {
   "cell_type": "code",
   "execution_count": 88,
   "id": "24826032-923c-4b6f-a231-41671bd668bc",
   "metadata": {},
   "outputs": [
    {
     "name": "stdout",
     "output_type": "stream",
     "text": [
      "Epoch 1/3\n",
      "6912/6912 [==============================] - 35s 5ms/step - loss: 0.8613 - accuracy: 0.6651 - val_loss: 0.7536 - val_accuracy: 0.7233\n",
      "Epoch 2/3\n",
      "6912/6912 [==============================] - 35s 5ms/step - loss: 0.7296 - accuracy: 0.7246 - val_loss: 0.7295 - val_accuracy: 0.7236\n",
      "Epoch 3/3\n",
      "6912/6912 [==============================] - 35s 5ms/step - loss: 0.7001 - accuracy: 0.7370 - val_loss: 0.6822 - val_accuracy: 0.7497\n"
     ]
    }
   ],
   "source": [
    "# Fit the model on chars only\n",
    "model_3_history = model_3.fit(train_char_dataset,\n",
    "                              steps_per_epoch=int(0.1*len(train_char_dataset)),\n",
    "                              epochs=3,\n",
    "                              validation_data=val_char_dataset,\n",
    "                              validation_steps=int(0.1*len(val_char_dataset)))"
   ]
  },
  {
   "cell_type": "markdown",
   "id": "a235f5fb-c634-48b1-9826-585219c25d5c",
   "metadata": {},
   "source": [
    "### Evaluate Model"
   ]
  },
  {
   "cell_type": "code",
   "execution_count": 89,
   "id": "6c4f6086-dad3-4929-baa2-3f3a96a69708",
   "metadata": {},
   "outputs": [
    {
     "data": {
      "text/plain": [
       "array([[0.17238057, 0.10797673, 0.02385939, 0.6877148 , 0.00806854],\n",
       "       [0.01232205, 0.02126002, 0.49639106, 0.01549143, 0.45453545],\n",
       "       [0.00312163, 0.0519613 , 0.02006736, 0.00176859, 0.92308116],\n",
       "       ...,\n",
       "       [0.0562709 , 0.4979212 , 0.00998494, 0.02235704, 0.41346592],\n",
       "       [0.05016156, 0.47028205, 0.00755647, 0.02050599, 0.45149392],\n",
       "       [0.33383158, 0.5133416 , 0.00204105, 0.14855488, 0.00223088]],\n",
       "      dtype=float32)"
      ]
     },
     "execution_count": 89,
     "metadata": {},
     "output_type": "execute_result"
    }
   ],
   "source": [
    "# Make predictions with char model only\n",
    "model_3_pred_probs = model_3.predict(val_char_dataset)\n",
    "model_3_pred_probs"
   ]
  },
  {
   "cell_type": "code",
   "execution_count": 90,
   "id": "7de61043-1dd4-45c8-81fd-373f7fe4b9f4",
   "metadata": {},
   "outputs": [
    {
     "data": {
      "text/plain": [
       "<tf.Tensor: shape=(28932,), dtype=int64, numpy=array([3, 2, 4, ..., 1, 1, 1], dtype=int64)>"
      ]
     },
     "execution_count": 90,
     "metadata": {},
     "output_type": "execute_result"
    }
   ],
   "source": [
    "# Convert prediction probabilities to labels\n",
    "model_3_preds = tf.argmax(model_3_pred_probs, axis=1)\n",
    "model_3_preds"
   ]
  },
  {
   "cell_type": "code",
   "execution_count": 91,
   "id": "fe037921-56e3-40da-a6bb-dcbaf376afe3",
   "metadata": {},
   "outputs": [
    {
     "data": {
      "text/plain": [
       "{'accuracy': 74.8790266832573,\n",
       " 'precision': 0.7403644924786692,\n",
       " 'recall': 0.7487902668325729,\n",
       " 'f1': 0.7416466151250735}"
      ]
     },
     "execution_count": 91,
     "metadata": {},
     "output_type": "execute_result"
    }
   ],
   "source": [
    "# Calculate results\n",
    "model_3_results = calculate_results(val_labels_encoded,\n",
    "                                    model_3_preds)\n",
    "model_3_results"
   ]
  },
  {
   "cell_type": "markdown",
   "id": "9b45392f-6139-410e-b47f-f0d402391f12",
   "metadata": {},
   "source": [
    "## Model 4: USE + Bidirectional LSTM Hybrid Embedding (Token + Character Embedding)\n",
    "\n",
    "1. Create a token-level embedding model (e.g model 1)\n",
    "2. Create a character-level embedding model (e.g model 3 with slight modification)\n",
    "3. Combine 1 and 2 with a concatenate (layers.Concatenate)\n",
    "4. Build a series of output layers on top of #3 similar to the paper\n",
    "5. Construct a model which takes token and character-level sequences as input and produces sequence label probabilities as output"
   ]
  },
  {
   "cell_type": "markdown",
   "id": "af73602e-52fa-42a1-929d-dee4c51d7e6a",
   "metadata": {},
   "source": [
    "### Create Model"
   ]
  },
  {
   "cell_type": "code",
   "execution_count": 92,
   "id": "2c5b87d4-048b-4c89-9b25-4fa3e8c57896",
   "metadata": {},
   "outputs": [],
   "source": [
    "# 1. Setup token inputs/model\n",
    "token_inputs = layers.Input(shape=[], dtype=tf.string, name=\"token_input\") # shape=[] because that is what USE expects\n",
    "token_embeddings = tf_hub_embedding_layer(token_inputs)\n",
    "token_outputs = layers.Dense(128, activation=\"relu\")(token_embeddings) # Paper uses 300\n",
    "token_model = tf.keras.Model(token_inputs, token_outputs)\n",
    "\n",
    "# 2. Setup char inputs/model\n",
    "char_inputs = layers.Input(shape=(1,), dtype=tf.string, name=\"char_input\")\n",
    "char_vectors = char_vectorizer(char_inputs)\n",
    "char_embeddings = char_embed(char_vectors)\n",
    "char_bi_lstm = layers.Bidirectional(layers.LSTM(24))(char_embeddings) # bi-LSTM from paper (Since it is bidirectional, 24 is actually 48 hidden units) (paper uses 25, or \"50\")\n",
    "char_model = tf.keras.Model(char_inputs, char_bi_lstm)\n",
    "\n",
    "# 3. Concatenate token and char inputs (create hybrid token embeddings)\n",
    "token_char_concat = layers.Concatenate(name=\"token_char_hybrid\")([token_model.output,\n",
    "                                                                  char_model.output])\n",
    "\n",
    "# 4. Create output layers - adding in Dropout\n",
    "combined_dropout = layers.Dropout(0.5)(token_char_concat)\n",
    "combined_dense = layers.Dense(128, activation=\"relu\")(combined_dropout)\n",
    "final_dropout = layers.Dropout(0.5)(combined_dense)\n",
    "output_layer = layers.Dense(num_classes, activation=\"softmax\")(final_dropout)\n",
    "\n",
    "# 5. Constuct model with char and token inputs\n",
    "model_4 = tf.keras.Model(inputs=[token_model.input, char_model.input],\n",
    "                         outputs=output_layer,\n",
    "                         name=\"model_4_token_and_char_embeddings\")"
   ]
  },
  {
   "cell_type": "code",
   "execution_count": 93,
   "id": "fadf8e59-6c5f-4669-b1d6-d454b653e4c2",
   "metadata": {},
   "outputs": [
    {
     "name": "stdout",
     "output_type": "stream",
     "text": [
      "Model: \"model_4_token_and_char_embeddings\"\n",
      "__________________________________________________________________________________________________\n",
      " Layer (type)                   Output Shape         Param #     Connected to                     \n",
      "==================================================================================================\n",
      " char_input (InputLayer)        [(None, 1)]          0           []                               \n",
      "                                                                                                  \n",
      " token_input (InputLayer)       [(None,)]            0           []                               \n",
      "                                                                                                  \n",
      " char_vectorizer (TextVectoriza  (None, 284)         0           ['char_input[0][0]']             \n",
      " tion)                                                                                            \n",
      "                                                                                                  \n",
      " universal_sentence_encoder (Ke  (None, 512)         256797824   ['token_input[0][0]']            \n",
      " rasLayer)                                                                                        \n",
      "                                                                                                  \n",
      " char_embed (Embedding)         (None, 284, 25)      700         ['char_vectorizer[1][0]']        \n",
      "                                                                                                  \n",
      " dense_4 (Dense)                (None, 128)          65664       ['universal_sentence_encoder[1][0\n",
      "                                                                 ]']                              \n",
      "                                                                                                  \n",
      " bidirectional (Bidirectional)  (None, 48)           9600        ['char_embed[1][0]']             \n",
      "                                                                                                  \n",
      " token_char_hybrid (Concatenate  (None, 176)         0           ['dense_4[0][0]',                \n",
      " )                                                                'bidirectional[0][0]']          \n",
      "                                                                                                  \n",
      " dropout (Dropout)              (None, 176)          0           ['token_char_hybrid[0][0]']      \n",
      "                                                                                                  \n",
      " dense_5 (Dense)                (None, 128)          22656       ['dropout[0][0]']                \n",
      "                                                                                                  \n",
      " dropout_1 (Dropout)            (None, 128)          0           ['dense_5[0][0]']                \n",
      "                                                                                                  \n",
      " dense_6 (Dense)                (None, 5)            645         ['dropout_1[0][0]']              \n",
      "                                                                                                  \n",
      "==================================================================================================\n",
      "Total params: 256,897,089\n",
      "Trainable params: 99,265\n",
      "Non-trainable params: 256,797,824\n",
      "__________________________________________________________________________________________________\n"
     ]
    }
   ],
   "source": [
    "# Get a summary\n",
    "model_4.summary()"
   ]
  },
  {
   "cell_type": "code",
   "execution_count": 94,
   "id": "64a90bdf-974b-4811-b2b1-e6a27b43942b",
   "metadata": {},
   "outputs": [],
   "source": [
    "# Compile token char model\n",
    "model_4.compile(loss=\"categorical_crossentropy\",\n",
    "                optimizer=tf.keras.optimizers.Adam(),\n",
    "                metrics=[\"accuracy\"])"
   ]
  },
  {
   "cell_type": "code",
   "execution_count": 95,
   "id": "91196f19-fda2-4b5a-b8b9-0316141d344e",
   "metadata": {},
   "outputs": [
    {
     "name": "stdout",
     "output_type": "stream",
     "text": [
      "Epoch 1/3\n",
      "6912/6912 [==============================] - 400s 57ms/step - loss: 0.7249 - accuracy: 0.7252 - val_loss: 0.6008 - val_accuracy: 0.7712\n",
      "Epoch 2/3\n",
      "6912/6912 [==============================] - 379s 55ms/step - loss: 0.6569 - accuracy: 0.7547 - val_loss: 0.5688 - val_accuracy: 0.7788\n",
      "Epoch 3/3\n",
      "6912/6912 [==============================] - 384s 56ms/step - loss: 0.6369 - accuracy: 0.7633 - val_loss: 0.5464 - val_accuracy: 0.7934\n"
     ]
    }
   ],
   "source": [
    "# Fit the model\n",
    "history_model_4 = model_4.fit(train_char_token_dataset,\n",
    "                              steps_per_epoch=int(0.1*len(train_char_token_dataset)),\n",
    "                              epochs=3,\n",
    "                              validation_data=val_char_token_dataset,\n",
    "                              validation_steps=int(0.1*len(val_char_token_dataset)))"
   ]
  },
  {
   "cell_type": "markdown",
   "id": "d9e348df-8439-4cdb-9e8a-e337aefc1aae",
   "metadata": {},
   "source": [
    "### Evaluate Model"
   ]
  },
  {
   "cell_type": "code",
   "execution_count": 96,
   "id": "d7284d77-ca0c-4bf2-8cb7-2af2ded2014c",
   "metadata": {},
   "outputs": [
    {
     "name": "stdout",
     "output_type": "stream",
     "text": [
      "905/905 [==============================] - 21s 23ms/step - loss: 0.5612 - accuracy: 0.7884\n"
     ]
    },
    {
     "data": {
      "text/plain": [
       "[0.5611518621444702, 0.7884349226951599]"
      ]
     },
     "execution_count": 96,
     "metadata": {},
     "output_type": "execute_result"
    }
   ],
   "source": [
    "# Evaluate on the whole validation dataset\n",
    "model_4.evaluate(val_char_token_dataset)"
   ]
  },
  {
   "cell_type": "code",
   "execution_count": 97,
   "id": "5379824e-b325-4422-b36c-efecafa00681",
   "metadata": {},
   "outputs": [
    {
     "data": {
      "text/plain": [
       "array([[2.0449989e-01, 3.4491593e-01, 8.5619926e-02, 7.8044131e-02,\n",
       "        2.8692013e-01],\n",
       "       [2.8881665e-02, 9.9886451e-03, 8.4254289e-01, 2.6799152e-02,\n",
       "        9.1787741e-02],\n",
       "       [1.1627486e-03, 7.2834425e-02, 1.3897538e-02, 4.5950655e-04,\n",
       "        9.1164577e-01],\n",
       "       ...,\n",
       "       [8.9840265e-03, 4.9033687e-01, 3.2079176e-03, 3.1269940e-03,\n",
       "        4.9434420e-01],\n",
       "       [4.4857740e-02, 3.4206852e-01, 3.6108539e-02, 2.0273156e-02,\n",
       "        5.5669206e-01],\n",
       "       [2.1269673e-01, 7.0096582e-01, 3.2032649e-03, 7.5103581e-02,\n",
       "        8.0305785e-03]], dtype=float32)"
      ]
     },
     "execution_count": 97,
     "metadata": {},
     "output_type": "execute_result"
    }
   ],
   "source": [
    "# Make predictions using the token-character model hybrid\n",
    "model_4_pred_probs = model_4.predict(val_char_token_dataset)\n",
    "model_4_pred_probs"
   ]
  },
  {
   "cell_type": "code",
   "execution_count": 98,
   "id": "a57346bf-d717-4473-9d71-1eef807422a2",
   "metadata": {},
   "outputs": [
    {
     "data": {
      "text/plain": [
       "<tf.Tensor: shape=(28932,), dtype=int64, numpy=array([1, 2, 4, ..., 4, 4, 1], dtype=int64)>"
      ]
     },
     "execution_count": 98,
     "metadata": {},
     "output_type": "execute_result"
    }
   ],
   "source": [
    "# Format pred probs into labels\n",
    "model_4_preds = tf.argmax(model_4_pred_probs, axis=1)\n",
    "model_4_preds"
   ]
  },
  {
   "cell_type": "code",
   "execution_count": 99,
   "id": "173417b6-ff28-4886-a521-49ceb159954c",
   "metadata": {},
   "outputs": [
    {
     "data": {
      "text/plain": [
       "{'accuracy': 78.84349509193972,\n",
       " 'precision': 0.7857333825543344,\n",
       " 'recall': 0.7884349509193972,\n",
       " 'f1': 0.7857766394825717}"
      ]
     },
     "execution_count": 99,
     "metadata": {},
     "output_type": "execute_result"
    }
   ],
   "source": [
    "# Get results of our hybrid model\n",
    "model_4_results = calculate_results(val_labels_encoded,\n",
    "                                    model_4_preds)\n",
    "model_4_results"
   ]
  },
  {
   "cell_type": "markdown",
   "id": "bafe03d3-cb04-4281-8c65-bb500ac2bad1",
   "metadata": {},
   "source": [
    "### Model 4 - Visualized"
   ]
  },
  {
   "cell_type": "code",
   "execution_count": 100,
   "id": "1ef09b09-e655-4fb7-bbb1-89cf24f99dc1",
   "metadata": {},
   "outputs": [
    {
     "data": {
      "image/png": "[encoded data removed]",
      "text/plain": [
       "<IPython.core.display.Image object>"
      ]
     },
     "execution_count": 100,
     "metadata": {},
     "output_type": "execute_result"
    }
   ],
   "source": [
    "# Plot hybrid token and character model\n",
    "from tensorflow.keras.utils import plot_model\n",
    "plot_model(model_4, show_shapes=True)"
   ]
  },
  {
   "cell_type": "markdown",
   "id": "e7de68ac-41b5-4ea6-be03-ca6c12e68b88",
   "metadata": {
    "tags": []
   },
   "source": [
    "## Model 5: USE + Bidirectional LSTM Tribrid Embedding (Token + Character + Positional Embeddings)"
   ]
  },
  {
   "cell_type": "markdown",
   "id": "1686e426-e7b3-4071-8560-a9294c7a98ee",
   "metadata": {
    "jp-MarkdownHeadingCollapsed": true,
    "tags": []
   },
   "source": [
    "### Create Model\n",
    "\n",
    "1. Create a token-level model\n",
    "2. Create a character-level model\n",
    "3. Create a model for the \"line_number\" feature\n",
    "4. Create a model for the \"total_lines\" feature\n",
    "5. Combine the outputs of 1, 2 using tf.keras.layers.Concatenate\n",
    "6. Combine the outputs of 3, 4, 5 using the tf.keras.layers.Concatenate\n",
    "7. Create an output layer to accept the tribrid embedding and output label probabilities \n",
    "8. Combine the inputs of 1, 2, 3, 4 and outputs of 7 into a tf.keras.Model"
   ]
  },
  {
   "cell_type": "code",
   "execution_count": 101,
   "id": "b6caf116-0b60-4823-bcbc-3dd8df5d1c34",
   "metadata": {},
   "outputs": [
    {
     "data": {
      "text/plain": [
       "TensorShape([15])"
      ]
     },
     "execution_count": 101,
     "metadata": {},
     "output_type": "execute_result"
    }
   ],
   "source": [
    "train_line_numbers_one_hot[0].shape"
   ]
  },
  {
   "cell_type": "code",
   "execution_count": 102,
   "id": "874bd55c-8ec3-4319-91fc-cb60b6d153f8",
   "metadata": {},
   "outputs": [
    {
     "data": {
      "text/plain": [
       "tf.float32"
      ]
     },
     "execution_count": 102,
     "metadata": {},
     "output_type": "execute_result"
    }
   ],
   "source": [
    "train_line_numbers_one_hot[0].dtype"
   ]
  },
  {
   "cell_type": "code",
   "execution_count": 103,
   "id": "1821a494-e7ba-4de8-948a-e0436878132a",
   "metadata": {},
   "outputs": [
    {
     "data": {
      "text/plain": [
       "TensorShape([20])"
      ]
     },
     "execution_count": 103,
     "metadata": {},
     "output_type": "execute_result"
    }
   ],
   "source": [
    "train_total_lines_one_hot[0].shape"
   ]
  },
  {
   "cell_type": "code",
   "execution_count": 104,
   "id": "0badd195-82b5-4399-aa85-a17528b9da44",
   "metadata": {},
   "outputs": [
    {
     "data": {
      "text/plain": [
       "tf.float32"
      ]
     },
     "execution_count": 104,
     "metadata": {},
     "output_type": "execute_result"
    }
   ],
   "source": [
    "train_total_lines_one_hot[0].dtype"
   ]
  },
  {
   "cell_type": "code",
   "execution_count": 105,
   "id": "f25b72ce-6e87-4147-9bc2-7f78893f294d",
   "metadata": {},
   "outputs": [],
   "source": [
    "# 1. Token inputs\n",
    "token_inputs = layers.Input(shape=[], dtype=tf.string, name=\"token_inputs\")\n",
    "token_embeddings = tf_hub_embedding_layer(token_inputs)\n",
    "token_outputs = layers.Dense(128, activation=\"relu\")(token_embeddings)\n",
    "token_model = tf.keras.Model(token_inputs, token_outputs)\n",
    "\n",
    "# 2. Char inputs\n",
    "char_inputs = layers.Input(shape=(1,), dtype=tf.string, name=\"char_inputs\")\n",
    "char_vectors = char_vectorizer(char_inputs)\n",
    "char_embeddings = char_embed(char_vectors)\n",
    "char_bi_lstm = layers.Bidirectional(layers.LSTM(24))(char_embeddings)\n",
    "char_model = tf.keras.Model(char_inputs, char_bi_lstm)\n",
    "\n",
    "# 3. Line numbers model\n",
    "line_number_inputs = layers.Input(shape=(15,), dtype=tf.float32, name=\"line_number_inputs\")\n",
    "x = layers.Dense(32, activation=\"relu\")(line_number_inputs) # This is like the embedding layer\n",
    "line_number_model = tf.keras.Model(line_number_inputs, x)\n",
    "\n",
    "# 4. Total lines model\n",
    "total_lines_inputs = layers.Input(shape=(20,), dtype=tf.float32, name=\"total_lines_inputs\")\n",
    "y = layers.Dense(32, activation=\"relu\")(total_lines_inputs)\n",
    "total_lines_model = tf.keras.Model(total_lines_inputs, y)\n",
    "\n",
    "# 5. Combine token and char embeddings into a hybrid embedding\n",
    "combined_embeddings = layers.Concatenate(name=\"char_token_hybrid_embedding\")([token_model.output, char_model.output])\n",
    "z = layers.Dense(256, activation=\"relu\")(combined_embeddings)\n",
    "z = layers.Dropout(0.5)(z)\n",
    "\n",
    "# 6. Combine positional embeddings with #5\n",
    "tribrid_embeddings = layers.Concatenate(name=\"char_token_positional_embedding\")([line_number_model.output, total_lines_model.output, z])\n",
    "\n",
    "# 7. Create output layer\n",
    "output_layer = layers.Dense(num_classes, activation=\"softmax\", name=\"output_layer\")(tribrid_embeddings)\n",
    "\n",
    "# 8. Put together model with all kinds of inputs\n",
    "model_5 = tf.keras.Model(inputs=[line_number_model.input, total_lines_model.input, token_model.input, char_model.input], outputs=output_layer, name=\"model_5_tribrid_embedding\")"
   ]
  },
  {
   "cell_type": "code",
   "execution_count": 106,
   "id": "b819d580-2cab-4a54-b08c-5680ce16b65a",
   "metadata": {},
   "outputs": [
    {
     "name": "stdout",
     "output_type": "stream",
     "text": [
      "Model: \"model_5_tribrid_embedding\"\n",
      "__________________________________________________________________________________________________\n",
      " Layer (type)                   Output Shape         Param #     Connected to                     \n",
      "==================================================================================================\n",
      " char_inputs (InputLayer)       [(None, 1)]          0           []                               \n",
      "                                                                                                  \n",
      " token_inputs (InputLayer)      [(None,)]            0           []                               \n",
      "                                                                                                  \n",
      " char_vectorizer (TextVectoriza  (None, 284)         0           ['char_inputs[0][0]']            \n",
      " tion)                                                                                            \n",
      "                                                                                                  \n",
      " universal_sentence_encoder (Ke  (None, 512)         256797824   ['token_inputs[0][0]']           \n",
      " rasLayer)                                                                                        \n",
      "                                                                                                  \n",
      " char_embed (Embedding)         (None, 284, 25)      700         ['char_vectorizer[2][0]']        \n",
      "                                                                                                  \n",
      " dense_7 (Dense)                (None, 128)          65664       ['universal_sentence_encoder[2][0\n",
      "                                                                 ]']                              \n",
      "                                                                                                  \n",
      " bidirectional_1 (Bidirectional  (None, 48)          9600        ['char_embed[2][0]']             \n",
      " )                                                                                                \n",
      "                                                                                                  \n",
      " char_token_hybrid_embedding (C  (None, 176)         0           ['dense_7[0][0]',                \n",
      " oncatenate)                                                      'bidirectional_1[0][0]']        \n",
      "                                                                                                  \n",
      " line_number_inputs (InputLayer  [(None, 15)]        0           []                               \n",
      " )                                                                                                \n",
      "                                                                                                  \n",
      " total_lines_inputs (InputLayer  [(None, 20)]        0           []                               \n",
      " )                                                                                                \n",
      "                                                                                                  \n",
      " dense_10 (Dense)               (None, 256)          45312       ['char_token_hybrid_embedding[0][\n",
      "                                                                 0]']                             \n",
      "                                                                                                  \n",
      " dense_8 (Dense)                (None, 32)           512         ['line_number_inputs[0][0]']     \n",
      "                                                                                                  \n",
      " dense_9 (Dense)                (None, 32)           672         ['total_lines_inputs[0][0]']     \n",
      "                                                                                                  \n",
      " dropout_2 (Dropout)            (None, 256)          0           ['dense_10[0][0]']               \n",
      "                                                                                                  \n",
      " char_token_positional_embeddin  (None, 320)         0           ['dense_8[0][0]',                \n",
      " g (Concatenate)                                                  'dense_9[0][0]',                \n",
      "                                                                  'dropout_2[0][0]']              \n",
      "                                                                                                  \n",
      " output_layer (Dense)           (None, 5)            1605        ['char_token_positional_embedding\n",
      "                                                                 [0][0]']                         \n",
      "                                                                                                  \n",
      "==================================================================================================\n",
      "Total params: 256,921,889\n",
      "Trainable params: 124,065\n",
      "Non-trainable params: 256,797,824\n",
      "__________________________________________________________________________________________________\n"
     ]
    }
   ],
   "source": [
    "# Get a summary \n",
    "model_5.summary()"
   ]
  },
  {
   "cell_type": "code",
   "execution_count": 107,
   "id": "f8357afd-2f18-4f19-9865-edf3683cda0e",
   "metadata": {},
   "outputs": [],
   "source": [
    "# Compile token, char, and positional embedding model\n",
    "model_5.compile(loss=tf.keras.losses.CategoricalCrossentropy(label_smoothing=0.2), # Helps to prevent overfitting\n",
    "                optimizer=tf.keras.optimizers.Adam(),\n",
    "                metrics=[\"accuracy\"])"
   ]
  },
  {
   "cell_type": "markdown",
   "id": "6a3a67a1-665d-4d01-a1cb-53c335b12f52",
   "metadata": {},
   "source": [
    "### Fitting, Evaluating and making Predictions with Tribrid Model"
   ]
  },
  {
   "cell_type": "code",
   "execution_count": 108,
   "id": "0fd494c3-f4f1-4896-bee2-1da242cc709e",
   "metadata": {},
   "outputs": [
    {
     "name": "stdout",
     "output_type": "stream",
     "text": [
      "Epoch 1/3\n",
      "6912/6912 [==============================] - 390s 56ms/step - loss: 0.9389 - accuracy: 0.8313 - val_loss: 0.9068 - val_accuracy: 0.8521\n",
      "Epoch 2/3\n",
      "6912/6912 [==============================] - 370s 54ms/step - loss: 0.9051 - accuracy: 0.8540 - val_loss: 0.8962 - val_accuracy: 0.8611\n",
      "Epoch 3/3\n",
      "6912/6912 [==============================] - 375s 54ms/step - loss: 0.9002 - accuracy: 0.8571 - val_loss: 0.8877 - val_accuracy: 0.8667\n"
     ]
    }
   ],
   "source": [
    "# Fit our tribrid embedding model\n",
    "history_model_5 = model_5.fit(train_char_token_pos_dataset,\n",
    "                              steps_per_epoch=int(0.1*len(train_char_token_dataset)),\n",
    "                              epochs=3,\n",
    "                              validation_data=val_char_token_pos_dataset,\n",
    "                              validation_steps=int(0.1*len(val_char_token_pos_dataset)))"
   ]
  },
  {
   "cell_type": "code",
   "execution_count": 109,
   "id": "ba5d8343-3844-4c02-8071-769d13775855",
   "metadata": {},
   "outputs": [
    {
     "data": {
      "text/plain": [
       "array([[0.49839887, 0.07620362, 0.04476186, 0.28327838, 0.09735731],\n",
       "       [0.11634357, 0.02521771, 0.726089  , 0.09065066, 0.04169908],\n",
       "       [0.18553804, 0.07076053, 0.1676974 , 0.11369802, 0.46230605],\n",
       "       ...,\n",
       "       [0.05039233, 0.3264569 , 0.06766691, 0.0463355 , 0.50914836],\n",
       "       [0.03322168, 0.24239463, 0.07203001, 0.03453555, 0.6178181 ],\n",
       "       [0.04580741, 0.81432635, 0.02519242, 0.0217991 , 0.0928747 ]],\n",
       "      dtype=float32)"
      ]
     },
     "execution_count": 109,
     "metadata": {},
     "output_type": "execute_result"
    }
   ],
   "source": [
    "# Make predictions with tribrid model\n",
    "model_5_pred_probs = model_5.predict(val_char_token_pos_dataset)\n",
    "model_5_pred_probs"
   ]
  },
  {
   "cell_type": "code",
   "execution_count": 110,
   "id": "07096767-ade3-420e-9552-c7d5ecbc5623",
   "metadata": {},
   "outputs": [
    {
     "data": {
      "text/plain": [
       "<tf.Tensor: shape=(28932,), dtype=int64, numpy=array([0, 2, 4, ..., 4, 4, 1], dtype=int64)>"
      ]
     },
     "execution_count": 110,
     "metadata": {},
     "output_type": "execute_result"
    }
   ],
   "source": [
    "# Convert pred probs to labels\n",
    "model_5_preds = tf.argmax(model_5_pred_probs, axis=1)\n",
    "model_5_preds"
   ]
  },
  {
   "cell_type": "code",
   "execution_count": 111,
   "id": "2900f4e2-1c8e-455f-93e6-fd4dbd9f191f",
   "metadata": {
    "tags": []
   },
   "outputs": [
    {
     "data": {
      "text/plain": [
       "{'accuracy': 86.43716300290336,\n",
       " 'precision': 0.8666037824773485,\n",
       " 'recall': 0.8643716300290336,\n",
       " 'f1': 0.8627048165200566}"
      ]
     },
     "execution_count": 111,
     "metadata": {},
     "output_type": "execute_result"
    }
   ],
   "source": [
    "# Calculate results\n",
    "model_5_results = calculate_results(val_labels_encoded,\n",
    "                                    model_5_preds)\n",
    "model_5_results"
   ]
  },
  {
   "cell_type": "code",
   "execution_count": 112,
   "id": "cac22afe-ea25-41e3-9a08-5754e6484cae",
   "metadata": {},
   "outputs": [
    {
     "data": {
      "text/plain": [
       "{'accuracy': 78.84349509193972,\n",
       " 'precision': 0.7857333825543344,\n",
       " 'recall': 0.7884349509193972,\n",
       " 'f1': 0.7857766394825717}"
      ]
     },
     "execution_count": 112,
     "metadata": {},
     "output_type": "execute_result"
    }
   ],
   "source": [
    "model_4_results"
   ]
  },
  {
   "cell_type": "markdown",
   "id": "4632398e-960c-4ca1-af04-93785f384228",
   "metadata": {},
   "source": [
    "### Model 5 - Visualized"
   ]
  },
  {
   "cell_type": "code",
   "execution_count": 113,
   "id": "2613c540-4d9c-436b-95fc-adb99b45ba47",
   "metadata": {},
   "outputs": [
    {
     "data": {
      "image/png": "[encoded data removed]",
      "text/plain": [
       "<IPython.core.display.Image object>"
      ]
     },
     "execution_count": 113,
     "metadata": {},
     "output_type": "execute_result"
    }
   ],
   "source": [
    "# Plot model 5 visually\n",
    "from tensorflow.keras.utils import plot_model\n",
    "plot_model(model_5, show_shapes=True)"
   ]
  },
  {
   "cell_type": "markdown",
   "id": "30599de8-45d4-45af-aae2-51a7e9f39f0c",
   "metadata": {},
   "source": [
    "## Model 6: Custom Token Embeddings + Bidirectional LSTM Tribrid Embedding (Token + Character + Positional Embeddings)"
   ]
  },
  {
   "cell_type": "markdown",
   "id": "be0b66d6-a443-4dba-9158-a517a5f0cbd0",
   "metadata": {},
   "source": [
    "### Create Model"
   ]
  },
  {
   "cell_type": "code",
   "execution_count": 130,
   "id": "c5c20c31-2abb-4795-960a-af6b63c7ea2b",
   "metadata": {},
   "outputs": [],
   "source": [
    "# 1. Token inputs\n",
    "token_inputs = layers.Input(shape=[], dtype=tf.string, name=\"token_inputs\")\n",
    "text_vectors = text_vectorizer(token_inputs)\n",
    "token_embeddings = token_embed(text_vectors)\n",
    "x = layers.Conv1D(64, kernel_size=5, padding=\"same\", activation=\"relu\")(token_embeddings)\n",
    "x = layers.GlobalAveragePooling1D()(x)\n",
    "token_outputs = layers.Dense(128, activation=\"relu\")(x)\n",
    "token_model = tf.keras.Model(token_inputs, token_outputs)\n",
    "\n",
    "# 2. Char inputs\n",
    "char_inputs = layers.Input(shape=(1,), dtype=tf.string, name=\"char_inputs\")\n",
    "char_vectors = char_vectorizer(char_inputs)\n",
    "char_embeddings = char_embed(char_vectors)\n",
    "char_bi_lstm = layers.Bidirectional(layers.LSTM(24))(char_embeddings)\n",
    "char_model = tf.keras.Model(char_inputs, char_bi_lstm)\n",
    "\n",
    "# 3. Line numbers model\n",
    "line_number_inputs = layers.Input(shape=(15,), dtype=tf.float32, name=\"line_number_inputs\")\n",
    "x = layers.Dense(32, activation=\"relu\")(line_number_inputs) # This is like the embedding layer\n",
    "line_number_model = tf.keras.Model(line_number_inputs, x)\n",
    "\n",
    "# 4. Total lines model\n",
    "total_lines_inputs = layers.Input(shape=(20,), dtype=tf.float32, name=\"total_lines_inputs\")\n",
    "y = layers.Dense(32, activation=\"relu\")(total_lines_inputs)\n",
    "total_lines_model = tf.keras.Model(total_lines_inputs, y)\n",
    "\n",
    "# 5. Combine token and char embeddings into a hybrid embedding\n",
    "combined_embeddings = layers.Concatenate(name=\"char_token_hybrid_embedding\")([token_model.output, char_model.output])\n",
    "z = layers.Dense(256, activation=\"relu\")(combined_embeddings)\n",
    "z = layers.Dropout(0.5)(z)\n",
    "\n",
    "# 6. Combine positional embeddings with #5\n",
    "tribrid_embeddings = layers.Concatenate(name=\"char_token_positional_embedding\")([line_number_model.output, total_lines_model.output, z])\n",
    "\n",
    "# 7. Create output layer\n",
    "output_layer = layers.Dense(num_classes, activation=\"softmax\", name=\"output_layer\")(tribrid_embeddings)\n",
    "\n",
    "# 8. Put together model with all kinds of inputs\n",
    "model_6 = tf.keras.Model(inputs=[line_number_model.input, total_lines_model.input, token_model.input, char_model.input], outputs=output_layer, name=\"model_6_custom_tribrid_embedding\")"
   ]
  },
  {
   "cell_type": "code",
   "execution_count": 131,
   "id": "abfe6990-21b5-4688-8e05-0c9378e7fdad",
   "metadata": {},
   "outputs": [
    {
     "name": "stdout",
     "output_type": "stream",
     "text": [
      "Model: \"model_6_custom_tribrid_embedding\"\n",
      "__________________________________________________________________________________________________\n",
      " Layer (type)                   Output Shape         Param #     Connected to                     \n",
      "==================================================================================================\n",
      " token_inputs (InputLayer)      [(None,)]            0           []                               \n",
      "                                                                                                  \n",
      " text_vectorization (TextVector  (None, 54)          0           ['token_inputs[0][0]']           \n",
      " ization)                                                                                         \n",
      "                                                                                                  \n",
      " token_embedding (Embedding)    (None, 54, 128)      8704000     ['text_vectorization[5][0]']     \n",
      "                                                                                                  \n",
      " char_inputs (InputLayer)       [(None, 1)]          0           []                               \n",
      "                                                                                                  \n",
      " conv1d_4 (Conv1D)              (None, 54, 64)       41024       ['token_embedding[5][0]']        \n",
      "                                                                                                  \n",
      " char_vectorizer (TextVectoriza  (None, 284)         0           ['char_inputs[0][0]']            \n",
      " tion)                                                                                            \n",
      "                                                                                                  \n",
      " global_average_pooling1d_3 (Gl  (None, 64)          0           ['conv1d_4[0][0]']               \n",
      " obalAveragePooling1D)                                                                            \n",
      "                                                                                                  \n",
      " char_embed (Embedding)         (None, 284, 25)      700         ['char_vectorizer[6][0]']        \n",
      "                                                                                                  \n",
      " dense_23 (Dense)               (None, 128)          8320        ['global_average_pooling1d_3[0][0\n",
      "                                                                 ]']                              \n",
      "                                                                                                  \n",
      " bidirectional_5 (Bidirectional  (None, 48)          9600        ['char_embed[6][0]']             \n",
      " )                                                                                                \n",
      "                                                                                                  \n",
      " char_token_hybrid_embedding (C  (None, 176)         0           ['dense_23[0][0]',               \n",
      " oncatenate)                                                      'bidirectional_5[0][0]']        \n",
      "                                                                                                  \n",
      " line_number_inputs (InputLayer  [(None, 15)]        0           []                               \n",
      " )                                                                                                \n",
      "                                                                                                  \n",
      " total_lines_inputs (InputLayer  [(None, 20)]        0           []                               \n",
      " )                                                                                                \n",
      "                                                                                                  \n",
      " dense_26 (Dense)               (None, 256)          45312       ['char_token_hybrid_embedding[0][\n",
      "                                                                 0]']                             \n",
      "                                                                                                  \n",
      " dense_24 (Dense)               (None, 32)           512         ['line_number_inputs[0][0]']     \n",
      "                                                                                                  \n",
      " dense_25 (Dense)               (None, 32)           672         ['total_lines_inputs[0][0]']     \n",
      "                                                                                                  \n",
      " dropout_5 (Dropout)            (None, 256)          0           ['dense_26[0][0]']               \n",
      "                                                                                                  \n",
      " char_token_positional_embeddin  (None, 320)         0           ['dense_24[0][0]',               \n",
      " g (Concatenate)                                                  'dense_25[0][0]',               \n",
      "                                                                  'dropout_5[0][0]']              \n",
      "                                                                                                  \n",
      " output_layer (Dense)           (None, 5)            1605        ['char_token_positional_embedding\n",
      "                                                                 [0][0]']                         \n",
      "                                                                                                  \n",
      "==================================================================================================\n",
      "Total params: 8,811,745\n",
      "Trainable params: 8,811,745\n",
      "Non-trainable params: 0\n",
      "__________________________________________________________________________________________________\n"
     ]
    }
   ],
   "source": [
    "# Get a summary \n",
    "model_6.summary()"
   ]
  },
  {
   "cell_type": "code",
   "execution_count": 132,
   "id": "8257f446-9ad3-4d30-9e55-50ecbad3b240",
   "metadata": {},
   "outputs": [],
   "source": [
    "# Compile token, char, and positional embedding model\n",
    "model_6.compile(loss=tf.keras.losses.CategoricalCrossentropy(label_smoothing=0.2), # Helps to prevent overfitting\n",
    "                optimizer=tf.keras.optimizers.Adam(),\n",
    "                metrics=[\"accuracy\"])"
   ]
  },
  {
   "cell_type": "code",
   "execution_count": 133,
   "id": "4422caa3-3146-48ba-a44b-82223b2f1af0",
   "metadata": {},
   "outputs": [],
   "source": [
    "# Create EarlyStopping callback\n",
    "early_stopping = tf.keras.callbacks.EarlyStopping(monitor=\"val_loss\",\n",
    "                                                  patience=3) # If val_loss doesn't decrease for 3 epochs in a row, stop training"
   ]
  },
  {
   "cell_type": "code",
   "execution_count": 134,
   "id": "2a91222a-d852-4d23-8087-9767175e5a95",
   "metadata": {},
   "outputs": [
    {
     "name": "stdout",
     "output_type": "stream",
     "text": [
      "Epoch 1/100\n",
      "69121/69121 [==============================] - 2831s 41ms/step - loss: 0.8550 - accuracy: 0.8833 - val_loss: 0.8329 - val_accuracy: 0.8932\n",
      "Epoch 2/100\n",
      "69121/69121 [==============================] - 2797s 40ms/step - loss: 0.8364 - accuracy: 0.8956 - val_loss: 0.8316 - val_accuracy: 0.8933\n",
      "Epoch 3/100\n",
      "69121/69121 [==============================] - 2857s 41ms/step - loss: 0.8249 - accuracy: 0.9040 - val_loss: 0.8361 - val_accuracy: 0.8891\n",
      "Epoch 4/100\n",
      "69121/69121 [==============================] - 2809s 41ms/step - loss: 0.8139 - accuracy: 0.9122 - val_loss: 0.8428 - val_accuracy: 0.8823\n",
      "Epoch 5/100\n",
      "69121/69121 [==============================] - 2792s 40ms/step - loss: 0.8034 - accuracy: 0.9202 - val_loss: 0.8481 - val_accuracy: 0.8812\n"
     ]
    }
   ],
   "source": [
    "# Fit our tribrid embedding model\n",
    "history_model_6 = model_6.fit(train_char_token_pos_dataset,\n",
    "                              steps_per_epoch=len(train_char_token_dataset),\n",
    "                              epochs=100,\n",
    "                              validation_data=val_char_token_pos_dataset,\n",
    "                              validation_steps=len(val_char_token_pos_dataset),\n",
    "                              callbacks=[early_stopping])"
   ]
  },
  {
   "cell_type": "markdown",
   "id": "620efdbd-6148-43dc-ab40-0c129e3ef36b",
   "metadata": {},
   "source": [
    "### Evaluate Model"
   ]
  },
  {
   "cell_type": "code",
   "execution_count": 135,
   "id": "466504dd-cc48-4ff3-9546-438bfc56b1f7",
   "metadata": {},
   "outputs": [
    {
     "data": {
      "text/plain": [
       "array([[0.53262675, 0.04583345, 0.01874571, 0.37278137, 0.0300127 ],\n",
       "       [0.10541207, 0.02598411, 0.40081856, 0.12529053, 0.34249476],\n",
       "       [0.13981661, 0.04336442, 0.08260391, 0.11895419, 0.6152609 ],\n",
       "       ...,\n",
       "       [0.05010038, 0.27186385, 0.07251666, 0.03923359, 0.56628555],\n",
       "       [0.04791923, 0.77396417, 0.05093594, 0.04325765, 0.08392305],\n",
       "       [0.06494666, 0.81590694, 0.03172586, 0.03443238, 0.05298807]],\n",
       "      dtype=float32)"
      ]
     },
     "execution_count": 135,
     "metadata": {},
     "output_type": "execute_result"
    }
   ],
   "source": [
    "# Make predictions with tribrid model\n",
    "model_6_pred_probs = model_6.predict(val_char_token_pos_dataset)\n",
    "model_6_pred_probs"
   ]
  },
  {
   "cell_type": "code",
   "execution_count": 136,
   "id": "8ebb3883-b41f-4e4a-90be-0f4d35eb9fb5",
   "metadata": {},
   "outputs": [
    {
     "data": {
      "text/plain": [
       "<tf.Tensor: shape=(28932,), dtype=int64, numpy=array([0, 2, 4, ..., 4, 1, 1], dtype=int64)>"
      ]
     },
     "execution_count": 136,
     "metadata": {},
     "output_type": "execute_result"
    }
   ],
   "source": [
    "# Convert pred probs to labels\n",
    "model_6_preds = tf.argmax(model_6_pred_probs, axis=1)\n",
    "model_6_preds"
   ]
  },
  {
   "cell_type": "code",
   "execution_count": 137,
   "id": "ae647310-b228-4e5f-9d83-0e6f2f6339df",
   "metadata": {
    "tags": []
   },
   "outputs": [
    {
     "data": {
      "text/plain": [
       "{'accuracy': 88.12387667634454,\n",
       " 'precision': 0.881172224941632,\n",
       " 'recall': 0.8812387667634454,\n",
       " 'f1': 0.8805361676434648}"
      ]
     },
     "execution_count": 137,
     "metadata": {},
     "output_type": "execute_result"
    }
   ],
   "source": [
    "# Calculate results\n",
    "model_6_results = calculate_results(val_labels_encoded,\n",
    "                                    model_6_preds)\n",
    "model_6_results"
   ]
  },
  {
   "cell_type": "markdown",
   "id": "2fc8719b-3be6-4727-80dc-0ec524fd249e",
   "metadata": {},
   "source": [
    "### Model 6 - Visualized"
   ]
  },
  {
   "cell_type": "code",
   "execution_count": 126,
   "id": "5adb043c-d444-4fa1-a9fd-08c5c0b9b23a",
   "metadata": {},
   "outputs": [
    {
     "data": {
      "image/png": "[encoded data removed]",
      "text/plain": [
       "<IPython.core.display.Image object>"
      ]
     },
     "execution_count": 126,
     "metadata": {},
     "output_type": "execute_result"
    }
   ],
   "source": [
    "# Plot model 6 visually\n",
    "plot_model(model_6, show_shapes=True)"
   ]
  },
  {
   "cell_type": "markdown",
   "id": "a816e62b-e849-4a29-95ef-08ee5335632a",
   "metadata": {},
   "source": [
    "## All Model Results - Visualized"
   ]
  },
  {
   "cell_type": "code",
   "execution_count": 138,
   "id": "e6b482a5-8109-4f44-8033-5b41ff00d0fb",
   "metadata": {},
   "outputs": [
    {
     "data": {
      "text/html": [
       "<div>\n",
       "<style scoped>\n",
       "    .dataframe tbody tr th:only-of-type {\n",
       "        vertical-align: middle;\n",
       "    }\n",
       "\n",
       "    .dataframe tbody tr th {\n",
       "        vertical-align: top;\n",
       "    }\n",
       "\n",
       "    .dataframe thead th {\n",
       "        text-align: right;\n",
       "    }\n",
       "</style>\n",
       "<table border=\"1\" class=\"dataframe\">\n",
       "  <thead>\n",
       "    <tr style=\"text-align: right;\">\n",
       "      <th></th>\n",
       "      <th>accuracy</th>\n",
       "      <th>precision</th>\n",
       "      <th>recall</th>\n",
       "      <th>f1</th>\n",
       "    </tr>\n",
       "  </thead>\n",
       "  <tbody>\n",
       "    <tr>\n",
       "      <th>model_0_baseline</th>\n",
       "      <td>74.975805</td>\n",
       "      <td>0.743197</td>\n",
       "      <td>0.749758</td>\n",
       "      <td>0.738957</td>\n",
       "    </tr>\n",
       "    <tr>\n",
       "      <th>model_1_custom_token_embedding</th>\n",
       "      <td>83.616757</td>\n",
       "      <td>0.839746</td>\n",
       "      <td>0.836168</td>\n",
       "      <td>0.834180</td>\n",
       "    </tr>\n",
       "    <tr>\n",
       "      <th>model_2_pretrained_token_embedding</th>\n",
       "      <td>77.692520</td>\n",
       "      <td>0.774431</td>\n",
       "      <td>0.776925</td>\n",
       "      <td>0.774554</td>\n",
       "    </tr>\n",
       "    <tr>\n",
       "      <th>model_3_custom_char_embedding</th>\n",
       "      <td>74.879027</td>\n",
       "      <td>0.740364</td>\n",
       "      <td>0.748790</td>\n",
       "      <td>0.741647</td>\n",
       "    </tr>\n",
       "    <tr>\n",
       "      <th>model_4_hybrid_char_token_embedding</th>\n",
       "      <td>78.843495</td>\n",
       "      <td>0.785733</td>\n",
       "      <td>0.788435</td>\n",
       "      <td>0.785777</td>\n",
       "    </tr>\n",
       "    <tr>\n",
       "      <th>model_5_tribrid_char_token_pos_embedding</th>\n",
       "      <td>86.437163</td>\n",
       "      <td>0.866604</td>\n",
       "      <td>0.864372</td>\n",
       "      <td>0.862705</td>\n",
       "    </tr>\n",
       "    <tr>\n",
       "      <th>model_6_custom_tribrid_embedding</th>\n",
       "      <td>88.123877</td>\n",
       "      <td>0.881172</td>\n",
       "      <td>0.881239</td>\n",
       "      <td>0.880536</td>\n",
       "    </tr>\n",
       "  </tbody>\n",
       "</table>\n",
       "</div>"
      ],
      "text/plain": [
       "                                           accuracy  precision    recall  \\\n",
       "model_0_baseline                          74.975805   0.743197  0.749758   \n",
       "model_1_custom_token_embedding            83.616757   0.839746  0.836168   \n",
       "model_2_pretrained_token_embedding        77.692520   0.774431  0.776925   \n",
       "model_3_custom_char_embedding             74.879027   0.740364  0.748790   \n",
       "model_4_hybrid_char_token_embedding       78.843495   0.785733  0.788435   \n",
       "model_5_tribrid_char_token_pos_embedding  86.437163   0.866604  0.864372   \n",
       "model_6_custom_tribrid_embedding          88.123877   0.881172  0.881239   \n",
       "\n",
       "                                                f1  \n",
       "model_0_baseline                          0.738957  \n",
       "model_1_custom_token_embedding            0.834180  \n",
       "model_2_pretrained_token_embedding        0.774554  \n",
       "model_3_custom_char_embedding             0.741647  \n",
       "model_4_hybrid_char_token_embedding       0.785777  \n",
       "model_5_tribrid_char_token_pos_embedding  0.862705  \n",
       "model_6_custom_tribrid_embedding          0.880536  "
      ]
     },
     "execution_count": 138,
     "metadata": {},
     "output_type": "execute_result"
    }
   ],
   "source": [
    "# Combine model results into a dataframe\n",
    "all_model_results = pd.DataFrame({\"model_0_baseline\": baseline_results,\n",
    "                                  \"model_1_custom_token_embedding\": model_1_results,\n",
    "                                  \"model_2_pretrained_token_embedding\": model_2_results,\n",
    "                                  \"model_3_custom_char_embedding\": model_3_results,\n",
    "                                  \"model_4_hybrid_char_token_embedding\": model_4_results,\n",
    "                                  \"model_5_tribrid_char_token_pos_embedding\": model_5_results,\n",
    "                                  \"model_6_custom_tribrid_embedding\": model_6_results})\n",
    "all_model_results = all_model_results.transpose()\n",
    "all_model_results"
   ]
  },
  {
   "cell_type": "code",
   "execution_count": 139,
   "id": "9d6fea8c-ad5f-4cbc-8e49-80b0d0861e22",
   "metadata": {},
   "outputs": [],
   "source": [
    "# Reduce the accuracy to be same scale as other metrics\n",
    "all_model_results[\"accuracy\"] = all_model_results[\"accuracy\"]/100"
   ]
  },
  {
   "cell_type": "code",
   "execution_count": 140,
   "id": "bda65ed6-5580-40ec-9d0e-6417ecd5a66d",
   "metadata": {},
   "outputs": [
    {
     "data": {
      "image/png": "[encoded data removed]",
      "text/plain": [
       "<Figure size 1000x700 with 1 Axes>"
      ]
     },
     "metadata": {},
     "output_type": "display_data"
    }
   ],
   "source": [
    "# Plot and compare all model results\n",
    "all_model_results.plot(kind=\"bar\", figsize=(10,7)).legend(bbox_to_anchor=(1.0,1.0));"
   ]
  },
  {
   "cell_type": "code",
   "execution_count": 141,
   "id": "33d3b2fc-1ca4-4c5c-8669-8a98a9512c57",
   "metadata": {},
   "outputs": [
    {
     "data": {
      "image/png": "[encoded data removed]",
      "text/plain": [
       "<Figure size 1000x700 with 1 Axes>"
      ]
     },
     "metadata": {},
     "output_type": "display_data"
    }
   ],
   "source": [
    "# Sort the model results by f1-score\n",
    "all_model_results.sort_values(\"f1\", ascending=True)[\"f1\"].plot(kind=\"bar\", figsize=(10,7)).legend(bbox_to_anchor=(1.0,1.0));"
   ]
  },
  {
   "cell_type": "markdown",
   "id": "0ac68d97-596d-47f8-93f1-82ced53ad378",
   "metadata": {},
   "source": [
    "## Save and Load Model"
   ]
  },
  {
   "cell_type": "code",
   "execution_count": null,
   "id": "b635e9cb-97fb-4a45-8f27-653149375467",
   "metadata": {},
   "outputs": [
    {
     "name": "stderr",
     "output_type": "stream",
     "text": [
      "WARNING:absl:Found untraced functions such as lstm_cell_10_layer_call_fn, lstm_cell_10_layer_call_and_return_conditional_losses, lstm_cell_11_layer_call_fn, lstm_cell_11_layer_call_and_return_conditional_losses while saving (showing 4 of 4). These functions will not be directly callable after loading.\n"
     ]
    },
    {
     "name": "stdout",
     "output_type": "stream",
     "text": [
      "INFO:tensorflow:Assets written to: skimlit_tribrid_model\\assets\n"
     ]
    },
    {
     "name": "stderr",
     "output_type": "stream",
     "text": [
      "INFO:tensorflow:Assets written to: skimlit_tribrid_model\\assets\n",
      "WARNING:absl:<keras.layers.recurrent.LSTMCell object at 0x000001A74B8B3F70> has the same name 'LSTMCell' as a built-in Keras object. Consider renaming <class 'keras.layers.recurrent.LSTMCell'> to avoid naming conflicts when loading with `tf.keras.models.load_model`. If renaming is not possible, pass the object in the `custom_objects` parameter of the load function.\n",
      "WARNING:absl:<keras.layers.recurrent.LSTMCell object at 0x000001A74B8FBAC0> has the same name 'LSTMCell' as a built-in Keras object. Consider renaming <class 'keras.layers.recurrent.LSTMCell'> to avoid naming conflicts when loading with `tf.keras.models.load_model`. If renaming is not possible, pass the object in the `custom_objects` parameter of the load function.\n"
     ]
    }
   ],
   "source": [
    "# Save the best performing model to SavedModel format\n",
    "model_6.save(\"skimlit_custom_tribrid_model\")"
   ]
  }
 ],
 "metadata": {
  "kernelspec": {
   "display_name": "d",
   "language": "python",
   "name": "d"
  },
  "language_info": {
   "codemirror_mode": {
    "name": "ipython",
    "version": 3
   },
   "file_extension": ".py",
   "mimetype": "text/x-python",
   "name": "python",
   "nbconvert_exporter": "python",
   "pygments_lexer": "ipython3",
   "version": "3.10.12"
  }
 },
 "nbformat": 4,
 "nbformat_minor": 5
}
